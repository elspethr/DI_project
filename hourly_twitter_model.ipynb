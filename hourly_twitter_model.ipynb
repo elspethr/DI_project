{
 "cells": [
  {
   "cell_type": "code",
   "execution_count": 1,
   "metadata": {
    "collapsed": false
   },
   "outputs": [],
   "source": [
    "%matplotlib inline\n",
    "#load packages and data\n",
    "import datetime\n",
    "import holidays\n",
    "import re #regular expressions\n",
    "import MySQLdb\n",
    "import pandas.io.sql as sql\n",
    "import pandas as pd\n",
    "import numpy as np\n",
    "import scipy.stats\n",
    "from matplotlib import pyplot as plt\n",
    "import sklearn as sk\n",
    "from sklearn import preprocessing, cross_validation, linear_model, neighbors, feature_extraction, grid_search, pipeline, metrics, ensemble\n",
    "import seaborn as sns\n",
    "import dill"
   ]
  },
  {
   "cell_type": "code",
   "execution_count": 2,
   "metadata": {
    "collapsed": false
   },
   "outputs": [
    {
     "name": "stdout",
     "output_type": "stream",
     "text": [
      "   tweetid              user          timestamps      search location\n",
      "0       51  @catcherintherei 2015-08-01 16:55:00  Disneyland  anaheim\n",
      "1       52      @LambdaPanda 2015-08-01 16:53:00  Disneyland  anaheim\n",
      "2       53        @rubyray92 2015-08-01 16:46:00  Disneyland  anaheim\n",
      "3       54         @LovezDee 2015-08-01 16:46:00  Disneyland  anaheim\n",
      "4       55    @TheEricGraham 2015-08-01 16:34:00  Disneyland  anaheim\n"
     ]
    }
   ],
   "source": [
    "#get current twitter data from db\n",
    "conn = MySQLdb.connect(host=\"localhost\", port=3306, user=\"root\", db=\"disney_db\") #make db connection\n",
    "cursor = conn.cursor()\n",
    "cursor.execute(\"SELECT id, user, timestamp, search, location FROM twitter_data_copy WHERE location = 'anaheim'\")\n",
    "rows = cursor.fetchall()\n",
    "tweetdf = pd.DataFrame( [[ij for ij in i] for i in rows] )\n",
    "tweetdf.rename(columns={0: 'tweetid', 1: 'user', 2: 'timestamps', 3: 'search', 4: 'location'}, inplace=True)\n",
    "tweetdf.search = tweetdf.search.apply(lambda x: x.title())\n",
    "print tweetdf.head()"
   ]
  },
  {
   "cell_type": "code",
   "execution_count": 3,
   "metadata": {
    "collapsed": false
   },
   "outputs": [
    {
     "name": "stdout",
     "output_type": "stream",
     "text": [
      "                 search                 hod  user\n",
      "0  California Adventure 2014-12-31 16:00:00     3\n",
      "1  California Adventure 2014-12-31 17:00:00     2\n",
      "2  California Adventure 2014-12-31 18:00:00     7\n",
      "3  California Adventure 2014-12-31 19:00:00     2\n",
      "4  California Adventure 2014-12-31 20:00:00     2\n"
     ]
    }
   ],
   "source": [
    "#now bin tweets by hour\n",
    "tweetdf['hod'] = [datetime.datetime(dt.year, dt.month, dt.day, dt.hour) for dt in tweetdf.timestamps]\n",
    "tweetdf['hour'] = [dt.hour for dt in tweetdf.timestamps]\n",
    "tweetdftrim = tweetdf[tweetdf.hour >= 8]\n",
    "tweetdftrim = tweetdftrim[tweetdftrim.hour <= 22]\n",
    "tweets_per_hour = pd.DataFrame(tweetdftrim.groupby(['search','hod'])['user'].count()).reset_index()\n",
    "print tweets_per_hour.head()"
   ]
  },
  {
   "cell_type": "code",
   "execution_count": 4,
   "metadata": {
    "collapsed": false
   },
   "outputs": [],
   "source": [
    "#import weather data\n",
    "cursor.execute(\"SELECT TemperatureF, Wind_SpeedMPH, PrecipitationIN, Conditions, DateUTC FROM anaheim_weather WHERE DateUTC > '2014-12-30'\")\n",
    "wrows = cursor.fetchall()\n",
    "weatherdf = pd.DataFrame( [[ij for ij in i] for i in wrows] )\n",
    "weatherdf.rename(columns={0: 'temp', 1:'wind', 2:'precip', 3:'conditions', 4:'datetimeUTC'}, inplace=True)"
   ]
  },
  {
   "cell_type": "code",
   "execution_count": 5,
   "metadata": {
    "collapsed": false
   },
   "outputs": [
    {
     "name": "stderr",
     "output_type": "stream",
     "text": [
      "/usr/local/lib/python2.7/site-packages/numpy/lib/nanfunctions.py:675: RuntimeWarning: Mean of empty slice\n",
      "  warnings.warn(\"Mean of empty slice\", RuntimeWarning)\n"
     ]
    }
   ],
   "source": [
    "#fix time zone on weather data and process\n",
    "weatherdf['datetimeUTC'] =  pd.to_datetime(weatherdf['datetimeUTC'], format='%Y-%m-%d %H:%M:%S.')\n",
    "weatherdf['timestamp'] = weatherdf['datetimeUTC'] - datetime.timedelta(hours=8)\n",
    "weatherdf['hod'] = [datetime.datetime(dt.year, dt.month, dt.day, dt.hour) for dt in weatherdf.timestamp] \n",
    "weatherdf.wind.replace(-9999.0, float('NaN'), inplace=True)\n",
    "weatherdf.temp.replace(-9999.0, float('NaN'), inplace=True)\n",
    "hourly_weather = pd.DataFrame(weatherdf.groupby(['hod']).agg({'temp': np.nanmean, 'wind': np.nanmean, 'conditions': 'first'})).reset_index()"
   ]
  },
  {
   "cell_type": "code",
   "execution_count": 6,
   "metadata": {
    "collapsed": false
   },
   "outputs": [
    {
     "data": {
      "text/html": [
       "<div>\n",
       "<table border=\"1\" class=\"dataframe\">\n",
       "  <thead>\n",
       "    <tr style=\"text-align: right;\">\n",
       "      <th></th>\n",
       "      <th>search</th>\n",
       "      <th>hod</th>\n",
       "      <th>user</th>\n",
       "      <th>conditions</th>\n",
       "      <th>wind</th>\n",
       "      <th>temp</th>\n",
       "    </tr>\n",
       "  </thead>\n",
       "  <tbody>\n",
       "    <tr>\n",
       "      <th>0</th>\n",
       "      <td>California Adventure</td>\n",
       "      <td>2014-12-31 16:00:00</td>\n",
       "      <td>3</td>\n",
       "      <td>Clear</td>\n",
       "      <td>5.8</td>\n",
       "      <td>52.0</td>\n",
       "    </tr>\n",
       "    <tr>\n",
       "      <th>1</th>\n",
       "      <td>Disneyland</td>\n",
       "      <td>2014-12-31 16:00:00</td>\n",
       "      <td>11</td>\n",
       "      <td>Clear</td>\n",
       "      <td>5.8</td>\n",
       "      <td>52.0</td>\n",
       "    </tr>\n",
       "    <tr>\n",
       "      <th>2</th>\n",
       "      <td>California Adventure</td>\n",
       "      <td>2014-12-31 17:00:00</td>\n",
       "      <td>2</td>\n",
       "      <td>Clear</td>\n",
       "      <td>3.5</td>\n",
       "      <td>51.1</td>\n",
       "    </tr>\n",
       "    <tr>\n",
       "      <th>3</th>\n",
       "      <td>Disneyland</td>\n",
       "      <td>2014-12-31 17:00:00</td>\n",
       "      <td>21</td>\n",
       "      <td>Clear</td>\n",
       "      <td>3.5</td>\n",
       "      <td>51.1</td>\n",
       "    </tr>\n",
       "    <tr>\n",
       "      <th>4</th>\n",
       "      <td>California Adventure</td>\n",
       "      <td>2014-12-31 18:00:00</td>\n",
       "      <td>7</td>\n",
       "      <td>Clear</td>\n",
       "      <td>0.0</td>\n",
       "      <td>48.0</td>\n",
       "    </tr>\n",
       "  </tbody>\n",
       "</table>\n",
       "</div>"
      ],
      "text/plain": [
       "                 search                 hod  user conditions  wind  temp\n",
       "0  California Adventure 2014-12-31 16:00:00     3      Clear   5.8  52.0\n",
       "1            Disneyland 2014-12-31 16:00:00    11      Clear   5.8  52.0\n",
       "2  California Adventure 2014-12-31 17:00:00     2      Clear   3.5  51.1\n",
       "3            Disneyland 2014-12-31 17:00:00    21      Clear   3.5  51.1\n",
       "4  California Adventure 2014-12-31 18:00:00     7      Clear   0.0  48.0"
      ]
     },
     "execution_count": 6,
     "metadata": {},
     "output_type": "execute_result"
    }
   ],
   "source": [
    "#join weather and twitter data\n",
    "tweetwaits = pd.merge(tweets_per_hour, hourly_weather, on='hod')\n",
    "tweetwaits.head()\n",
    "#tweetwaits['hour'] = [dt.hour for dt in tweetwaits.hod]"
   ]
  },
  {
   "cell_type": "code",
   "execution_count": 7,
   "metadata": {
    "collapsed": false
   },
   "outputs": [
    {
     "data": {
      "text/html": [
       "<div>\n",
       "<table border=\"1\" class=\"dataframe\">\n",
       "  <thead>\n",
       "    <tr style=\"text-align: right;\">\n",
       "      <th></th>\n",
       "      <th>search</th>\n",
       "      <th>hod</th>\n",
       "      <th>user</th>\n",
       "      <th>conditions</th>\n",
       "      <th>wind</th>\n",
       "      <th>temp</th>\n",
       "      <th>business_day</th>\n",
       "      <th>holiday</th>\n",
       "    </tr>\n",
       "  </thead>\n",
       "  <tbody>\n",
       "    <tr>\n",
       "      <th>0</th>\n",
       "      <td>California Adventure</td>\n",
       "      <td>2014-12-31 16:00:00</td>\n",
       "      <td>3</td>\n",
       "      <td>Clear</td>\n",
       "      <td>5.8</td>\n",
       "      <td>52.0</td>\n",
       "      <td>False</td>\n",
       "      <td>False</td>\n",
       "    </tr>\n",
       "    <tr>\n",
       "      <th>1</th>\n",
       "      <td>Disneyland</td>\n",
       "      <td>2014-12-31 16:00:00</td>\n",
       "      <td>11</td>\n",
       "      <td>Clear</td>\n",
       "      <td>5.8</td>\n",
       "      <td>52.0</td>\n",
       "      <td>False</td>\n",
       "      <td>False</td>\n",
       "    </tr>\n",
       "    <tr>\n",
       "      <th>2</th>\n",
       "      <td>California Adventure</td>\n",
       "      <td>2014-12-31 17:00:00</td>\n",
       "      <td>2</td>\n",
       "      <td>Clear</td>\n",
       "      <td>3.5</td>\n",
       "      <td>51.1</td>\n",
       "      <td>False</td>\n",
       "      <td>False</td>\n",
       "    </tr>\n",
       "    <tr>\n",
       "      <th>3</th>\n",
       "      <td>Disneyland</td>\n",
       "      <td>2014-12-31 17:00:00</td>\n",
       "      <td>21</td>\n",
       "      <td>Clear</td>\n",
       "      <td>3.5</td>\n",
       "      <td>51.1</td>\n",
       "      <td>False</td>\n",
       "      <td>False</td>\n",
       "    </tr>\n",
       "    <tr>\n",
       "      <th>4</th>\n",
       "      <td>California Adventure</td>\n",
       "      <td>2014-12-31 18:00:00</td>\n",
       "      <td>7</td>\n",
       "      <td>Clear</td>\n",
       "      <td>0.0</td>\n",
       "      <td>48.0</td>\n",
       "      <td>False</td>\n",
       "      <td>False</td>\n",
       "    </tr>\n",
       "  </tbody>\n",
       "</table>\n",
       "</div>"
      ],
      "text/plain": [
       "                 search                 hod  user conditions  wind  temp  \\\n",
       "0  California Adventure 2014-12-31 16:00:00     3      Clear   5.8  52.0   \n",
       "1            Disneyland 2014-12-31 16:00:00    11      Clear   5.8  52.0   \n",
       "2  California Adventure 2014-12-31 17:00:00     2      Clear   3.5  51.1   \n",
       "3            Disneyland 2014-12-31 17:00:00    21      Clear   3.5  51.1   \n",
       "4  California Adventure 2014-12-31 18:00:00     7      Clear   0.0  48.0   \n",
       "\n",
       "  business_day holiday  \n",
       "0        False   False  \n",
       "1        False   False  \n",
       "2        False   False  \n",
       "3        False   False  \n",
       "4        False   False  "
      ]
     },
     "execution_count": 7,
     "metadata": {},
     "output_type": "execute_result"
    }
   ],
   "source": [
    "#get business days and holidays\n",
    "tweetwaits['business_day'] = [dt.weekday() >= 5 for dt in tweetwaits.hod]\n",
    "us_holidays = holidays.UnitedStates()\n",
    "tweetwaits['holiday'] = [day in us_holidays for day in tweetwaits.hod]\n",
    "tweetwaits.head()"
   ]
  },
  {
   "cell_type": "code",
   "execution_count": 8,
   "metadata": {
    "collapsed": true
   },
   "outputs": [],
   "source": [
    "#close SQL connection\n",
    "conn.close()"
   ]
  },
  {
   "cell_type": "code",
   "execution_count": 30,
   "metadata": {
    "collapsed": false
   },
   "outputs": [
    {
     "data": {
      "text/html": [
       "<div>\n",
       "<table border=\"1\" class=\"dataframe\">\n",
       "  <thead>\n",
       "    <tr style=\"text-align: right;\">\n",
       "      <th></th>\n",
       "      <th>search</th>\n",
       "      <th>hod</th>\n",
       "      <th>user</th>\n",
       "      <th>conditions</th>\n",
       "      <th>wind</th>\n",
       "      <th>temp</th>\n",
       "      <th>business_day</th>\n",
       "      <th>holiday</th>\n",
       "      <th>California Adventure</th>\n",
       "      <th>Disneyland</th>\n",
       "      <th>...</th>\n",
       "      <th>Fog</th>\n",
       "      <th>Haze</th>\n",
       "      <th>Heavy Rain</th>\n",
       "      <th>Light Rain</th>\n",
       "      <th>Mostly Cloudy</th>\n",
       "      <th>Overcast</th>\n",
       "      <th>Partly Cloudy</th>\n",
       "      <th>Rain</th>\n",
       "      <th>Scattered Clouds</th>\n",
       "      <th>Unknown</th>\n",
       "    </tr>\n",
       "  </thead>\n",
       "  <tbody>\n",
       "    <tr>\n",
       "      <th>0</th>\n",
       "      <td>California Adventure</td>\n",
       "      <td>2014-12-31 16:00:00</td>\n",
       "      <td>3</td>\n",
       "      <td>Clear</td>\n",
       "      <td>5.8</td>\n",
       "      <td>52.0</td>\n",
       "      <td>False</td>\n",
       "      <td>False</td>\n",
       "      <td>1.0</td>\n",
       "      <td>0.0</td>\n",
       "      <td>...</td>\n",
       "      <td>0.0</td>\n",
       "      <td>0.0</td>\n",
       "      <td>0.0</td>\n",
       "      <td>0.0</td>\n",
       "      <td>0.0</td>\n",
       "      <td>0.0</td>\n",
       "      <td>0.0</td>\n",
       "      <td>0.0</td>\n",
       "      <td>0.0</td>\n",
       "      <td>0.0</td>\n",
       "    </tr>\n",
       "    <tr>\n",
       "      <th>1</th>\n",
       "      <td>Disneyland</td>\n",
       "      <td>2014-12-31 16:00:00</td>\n",
       "      <td>11</td>\n",
       "      <td>Clear</td>\n",
       "      <td>5.8</td>\n",
       "      <td>52.0</td>\n",
       "      <td>False</td>\n",
       "      <td>False</td>\n",
       "      <td>0.0</td>\n",
       "      <td>1.0</td>\n",
       "      <td>...</td>\n",
       "      <td>0.0</td>\n",
       "      <td>0.0</td>\n",
       "      <td>0.0</td>\n",
       "      <td>0.0</td>\n",
       "      <td>0.0</td>\n",
       "      <td>0.0</td>\n",
       "      <td>0.0</td>\n",
       "      <td>0.0</td>\n",
       "      <td>0.0</td>\n",
       "      <td>0.0</td>\n",
       "    </tr>\n",
       "    <tr>\n",
       "      <th>2</th>\n",
       "      <td>California Adventure</td>\n",
       "      <td>2014-12-31 17:00:00</td>\n",
       "      <td>2</td>\n",
       "      <td>Clear</td>\n",
       "      <td>3.5</td>\n",
       "      <td>51.1</td>\n",
       "      <td>False</td>\n",
       "      <td>False</td>\n",
       "      <td>1.0</td>\n",
       "      <td>0.0</td>\n",
       "      <td>...</td>\n",
       "      <td>0.0</td>\n",
       "      <td>0.0</td>\n",
       "      <td>0.0</td>\n",
       "      <td>0.0</td>\n",
       "      <td>0.0</td>\n",
       "      <td>0.0</td>\n",
       "      <td>0.0</td>\n",
       "      <td>0.0</td>\n",
       "      <td>0.0</td>\n",
       "      <td>0.0</td>\n",
       "    </tr>\n",
       "    <tr>\n",
       "      <th>3</th>\n",
       "      <td>Disneyland</td>\n",
       "      <td>2014-12-31 17:00:00</td>\n",
       "      <td>21</td>\n",
       "      <td>Clear</td>\n",
       "      <td>3.5</td>\n",
       "      <td>51.1</td>\n",
       "      <td>False</td>\n",
       "      <td>False</td>\n",
       "      <td>0.0</td>\n",
       "      <td>1.0</td>\n",
       "      <td>...</td>\n",
       "      <td>0.0</td>\n",
       "      <td>0.0</td>\n",
       "      <td>0.0</td>\n",
       "      <td>0.0</td>\n",
       "      <td>0.0</td>\n",
       "      <td>0.0</td>\n",
       "      <td>0.0</td>\n",
       "      <td>0.0</td>\n",
       "      <td>0.0</td>\n",
       "      <td>0.0</td>\n",
       "    </tr>\n",
       "    <tr>\n",
       "      <th>4</th>\n",
       "      <td>California Adventure</td>\n",
       "      <td>2014-12-31 18:00:00</td>\n",
       "      <td>7</td>\n",
       "      <td>Clear</td>\n",
       "      <td>0.0</td>\n",
       "      <td>48.0</td>\n",
       "      <td>False</td>\n",
       "      <td>False</td>\n",
       "      <td>1.0</td>\n",
       "      <td>0.0</td>\n",
       "      <td>...</td>\n",
       "      <td>0.0</td>\n",
       "      <td>0.0</td>\n",
       "      <td>0.0</td>\n",
       "      <td>0.0</td>\n",
       "      <td>0.0</td>\n",
       "      <td>0.0</td>\n",
       "      <td>0.0</td>\n",
       "      <td>0.0</td>\n",
       "      <td>0.0</td>\n",
       "      <td>0.0</td>\n",
       "    </tr>\n",
       "  </tbody>\n",
       "</table>\n",
       "<p>5 rows × 21 columns</p>\n",
       "</div>"
      ],
      "text/plain": [
       "                 search                 hod  user conditions  wind  temp  \\\n",
       "0  California Adventure 2014-12-31 16:00:00     3      Clear   5.8  52.0   \n",
       "1            Disneyland 2014-12-31 16:00:00    11      Clear   5.8  52.0   \n",
       "2  California Adventure 2014-12-31 17:00:00     2      Clear   3.5  51.1   \n",
       "3            Disneyland 2014-12-31 17:00:00    21      Clear   3.5  51.1   \n",
       "4  California Adventure 2014-12-31 18:00:00     7      Clear   0.0  48.0   \n",
       "\n",
       "  business_day holiday  California Adventure  Disneyland   ...     Fog  Haze  \\\n",
       "0        False   False                   1.0         0.0   ...     0.0   0.0   \n",
       "1        False   False                   0.0         1.0   ...     0.0   0.0   \n",
       "2        False   False                   1.0         0.0   ...     0.0   0.0   \n",
       "3        False   False                   0.0         1.0   ...     0.0   0.0   \n",
       "4        False   False                   1.0         0.0   ...     0.0   0.0   \n",
       "\n",
       "   Heavy Rain  Light Rain  Mostly Cloudy  Overcast  Partly Cloudy  Rain  \\\n",
       "0         0.0         0.0            0.0       0.0            0.0   0.0   \n",
       "1         0.0         0.0            0.0       0.0            0.0   0.0   \n",
       "2         0.0         0.0            0.0       0.0            0.0   0.0   \n",
       "3         0.0         0.0            0.0       0.0            0.0   0.0   \n",
       "4         0.0         0.0            0.0       0.0            0.0   0.0   \n",
       "\n",
       "   Scattered Clouds  Unknown  \n",
       "0               0.0      0.0  \n",
       "1               0.0      0.0  \n",
       "2               0.0      0.0  \n",
       "3               0.0      0.0  \n",
       "4               0.0      0.0  \n",
       "\n",
       "[5 rows x 21 columns]"
      ]
     },
     "execution_count": 30,
     "metadata": {},
     "output_type": "execute_result"
    }
   ],
   "source": [
    "#one hot encoding\n",
    "result = pd.concat([tweetwaits, pd.get_dummies(tweetwaits.search), pd.get_dummies(tweetwaits.conditions)], axis=1)\n",
    "result.reset_index(inplace=True)\n",
    "result.drop('index', axis=1, inplace=True)\n",
    "result = result.dropna()\n",
    "result.head()"
   ]
  },
  {
   "cell_type": "code",
   "execution_count": 35,
   "metadata": {
    "collapsed": false
   },
   "outputs": [],
   "source": [
    "#normalize numericals\n",
    "tweeters = result['user']\n",
    "\n",
    "###OTHER PARKS: KNOTT'S BERRY FARM, LEGOLAND CALIFORNIA RESORT (CALRSBAD), UNIVERSAL STUDIOS (HOLLYWOOD)\n",
    "###HERE CALCULATE TWEETS PER ACRE OF THE PARK: Disney 85, CA 67, Knott's 160, Legoland 128, US 415\n",
    "CAm2 = 67.\n",
    "DLm2 = 85.\n",
    "\n",
    "result['size'] = np.where(result['search']=='Disneyland', 85, 67)\n",
    "result['tweetsperacre'] = result['user']/ result['size']\n",
    "\n",
    "meant = result['tweetsperacre'].mean()\n",
    "stdt = result['tweetsperacre'].std()\n",
    "#result['tweetsnormed'] = result['tweetsperacre'].apply(lambda x: ((x - meant) / stdt))\n",
    "\n",
    "#add squares of hod, temp, and wind\n",
    "result['hour'] = [dt.hour for dt in result.hod]\n",
    "result['temp2'] = result['temp']**2\n",
    "result['hour2'] = result['hour']**2\n",
    "result['wind2'] = result['wind']**2\n",
    "\n",
    "hourly_averages = pd.DataFrame(result.groupby(['hour', 'search']).agg({'user':np.mean, 'size': 'first'})).reset_index()\n",
    "hourly_averages['peracre'] = hourly_averages['user']/hourly_averages['size']\n",
    "hourly_averages.drop(['user', 'size'], axis=1, inplace=True)\n",
    "hour_averages = hourly_averages.T.to_dict().values()\n",
    "hour_averages\n",
    "dill.dump(hour_averages, open('hourly_averages.pkl', 'w'))"
   ]
  },
  {
   "cell_type": "code",
   "execution_count": 10,
   "metadata": {
    "collapsed": false
   },
   "outputs": [
    {
     "data": {
      "text/plain": [
       "{'California Adventure': 1.0,\n",
       " 'Clear': 1.0,\n",
       " 'Disneyland': 0.0,\n",
       " 'Fog': 0.0,\n",
       " 'Haze': 0.0,\n",
       " 'Heavy Rain': 0.0,\n",
       " 'Light Rain': 0.0,\n",
       " 'Mostly Cloudy': 0.0,\n",
       " 'Overcast': 0.0,\n",
       " 'Partly Cloudy': 0.0,\n",
       " 'Rain': 0.0,\n",
       " 'Scattered Clouds': 0.0,\n",
       " 'Unknown': 0.0,\n",
       " 'business_day': False,\n",
       " 'hod': Timestamp('2014-12-31 16:00:00'),\n",
       " 'holiday': False,\n",
       " 'hour': 16,\n",
       " 'hour2': 256,\n",
       " 'size': 67,\n",
       " 'temp': 52.0,\n",
       " 'temp2': 2704.0,\n",
       " 'tweetsperacre': 0.04477611940298507,\n",
       " 'user': 3,\n",
       " 'wind': 5.8,\n",
       " 'wind2': 33.64}"
      ]
     },
     "execution_count": 10,
     "metadata": {},
     "output_type": "execute_result"
    }
   ],
   "source": [
    "result.drop(['conditions', 'search'], axis=1, inplace=True)\n",
    "data = result.T.to_dict().values()\n",
    "data[0]"
   ]
  },
  {
   "cell_type": "code",
   "execution_count": 12,
   "metadata": {
    "collapsed": false
   },
   "outputs": [
    {
     "name": "stdout",
     "output_type": "stream",
     "text": [
      "[ 0.04477612  0.12941176  0.02985075 ...,  0.02352941  0.02352941\n",
      "  0.01176471]\n"
     ]
    }
   ],
   "source": [
    "#model definition\n",
    "\n",
    "class ColumnSelector(sk.base.BaseEstimator, sk.base.TransformerMixin):\n",
    "    def __init__(self, column_names): #initialize\n",
    "        self.column_names = column_names\n",
    "\n",
    "    def fit(self, X, y=None): #fit the transformation, optional here\n",
    "        return self\n",
    "\n",
    "    def transform(self, X):\n",
    "        return [[x[column] for column in self.column_names] for x in X]\n",
    "\n",
    "\n",
    "columns = sorted(data[0].keys())\n",
    "#knnpredictors = ['Clear', 'Fog', 'Haze', 'Heavy Rain', 'Light Rain', 'Mist', \n",
    "#                 'Mostly Cloudy', 'Overcast', 'Partly Cloudy', 'Rain', 'Scattered Clouds', \n",
    "#                 'business_day', 'California Adventure', 'Disneyland', 'holiday', 'hour', 'temp', 'wind']\n",
    "linpredictors = ['Clear', 'Fog', 'Haze', 'Heavy Rain', 'Light Rain', \n",
    "                 'Mostly Cloudy', 'Overcast', 'Partly Cloudy', 'Rain', 'Scattered Clouds', \n",
    "                 'business_day', 'California Adventure', 'Disneyland', 'holiday', 'hour', \n",
    "                 'hour2', 'temp', 'temp2', 'wind', 'wind2']\n",
    "\n",
    "y = result.tweetsperacre.as_matrix()\n",
    "print y"
   ]
  },
  {
   "cell_type": "code",
   "execution_count": null,
   "metadata": {
    "collapsed": true
   },
   "outputs": [],
   "source": [
    "result.to_csv(\"hourly_data.csv\", na_rep='NA')"
   ]
  },
  {
   "cell_type": "code",
   "execution_count": 13,
   "metadata": {
    "collapsed": true
   },
   "outputs": [],
   "source": [
    "class EnsembleRegressor(sk.base.BaseEstimator, sk.base.RegressorMixin):\n",
    "    \"\"\"Joins a linear, random forest, and nearest neighbors model.\"\"\"\n",
    "    def __init__(self, nbrs, samples):\n",
    "        self.nbrs = nbrs\n",
    "        self.samples = samples\n",
    "        pass\n",
    "    \n",
    "    def fit(self, X, y):\n",
    "        self.linear_regression = linear_model.LinearRegression().fit(X, y)\n",
    "        y_err = y - self.linear_regression.predict(X)\n",
    "\n",
    "        self.nearest_neighbors = neighbors.KNeighborsRegressor(n_neighbors=self.nbrs).fit(X, y_err)\n",
    "        self.random_forest = ensemble.RandomForestRegressor(min_samples_leaf=self.samples).fit(X, y_err)\n",
    "\n",
    "        X_ensemble = pd.DataFrame({\n",
    "            \"NEAR\": self.nearest_neighbors.predict(X),\n",
    "            \"FOREST\": self.random_forest.predict(X),\n",
    "            \"LINEAR\": self.linear_regression.predict(X),\n",
    "        })\n",
    "        self.ensemble_regression = linear_model.LinearRegression().fit(X_ensemble, y)\n",
    "        return self\n",
    "    \n",
    "    def predict(self, X):\n",
    "        X_ensemble = pd.DataFrame({\n",
    "            \"NEAR\": self.nearest_neighbors.predict(X),\n",
    "            \"FOREST\": self.random_forest.predict(X),\n",
    "            \"LINEAR\": self.linear_regression.predict(X),\n",
    "        })\n",
    "        return self.ensemble_regression.predict(X_ensemble)"
   ]
  },
  {
   "cell_type": "code",
   "execution_count": 14,
   "metadata": {
    "collapsed": false
   },
   "outputs": [],
   "source": [
    "nbrs = 5 \n",
    "samples = 5\n",
    "nestedreg = pipeline.Pipeline([('colsel', ColumnSelector(linpredictors)),\n",
    "                               #('poly', preprocessing.PolynomialFeatures(2)),\n",
    "                               ('est', EnsembleRegressor(nbrs, samples))])  "
   ]
  },
  {
   "cell_type": "code",
   "execution_count": 16,
   "metadata": {
    "collapsed": false
   },
   "outputs": [
    {
     "data": {
      "text/plain": [
       "{'est__nbrs': 105, 'est__samples': 57}"
      ]
     },
     "execution_count": 16,
     "metadata": {},
     "output_type": "execute_result"
    }
   ],
   "source": [
    "#nestedreg.get_params().keys()\n",
    "parameters = dict(est__nbrs=range(90,122,3), est__samples=range(30,61,3))\n",
    "nested_cv = sk.grid_search.GridSearchCV(nestedreg, param_grid=parameters)\n",
    "nested_cv.fit(data, y)\n",
    "nested_cv.best_params_"
   ]
  },
  {
   "cell_type": "code",
   "execution_count": null,
   "metadata": {
    "collapsed": false
   },
   "outputs": [],
   "source": [
    "nested_cv.score(data, y)    "
   ]
  },
  {
   "cell_type": "code",
   "execution_count": 17,
   "metadata": {
    "collapsed": false
   },
   "outputs": [
    {
     "name": "stdout",
     "output_type": "stream",
     "text": [
      "[ 0.60433435  0.59243611  0.60668579  0.61545149  0.58082615  0.603613\n",
      "  0.60332038  0.61060583  0.60284392  0.55816121  0.61759524  0.59501898\n",
      "  0.59030809  0.62290686  0.6249765   0.60416887  0.60804957  0.59422897\n",
      "  0.61215561  0.61297409  0.60292351  0.59611196  0.60148523  0.59261496\n",
      "  0.60842046  0.60558821  0.61806513  0.61662511  0.5929643   0.62116854\n",
      "  0.60814463  0.61525332  0.57543601  0.61815714  0.61183754  0.62774625\n",
      "  0.61102822  0.62475083  0.60045772  0.62690227  0.58737317  0.60094312\n",
      "  0.59380294  0.60105217  0.60520236  0.58957819  0.6157756   0.62139555\n",
      "  0.59857291  0.60527059]\n"
     ]
    }
   ],
   "source": [
    "nbrs = 105\n",
    "samples = 57\n",
    "tweet_reg = pipeline.Pipeline([('colsel', ColumnSelector(linpredictors)),\n",
    "                               #('poly', preprocessing.PolynomialFeatures(2)),\n",
    "                               ('est', EnsembleRegressor(nbrs, samples))])  \n",
    "\n",
    "#run on all the data with the good alpha\n",
    "loo = cross_validation.ShuffleSplit(len(y), n_iter=50, test_size=0.25)\n",
    "scores = cross_validation.cross_val_score(tweet_reg, data, y, cv=loo)\n",
    "#scores.mean()\n",
    "print scores"
   ]
  },
  {
   "cell_type": "code",
   "execution_count": 18,
   "metadata": {
    "collapsed": false
   },
   "outputs": [],
   "source": [
    "tweet_reg.fit(data,y)\n",
    "dill.dump(tweet_reg, open('hourly_model.pkl', 'w'))"
   ]
  },
  {
   "cell_type": "code",
   "execution_count": 20,
   "metadata": {
    "collapsed": false
   },
   "outputs": [
    {
     "data": {
      "text/plain": [
       "0.62792734060825983"
      ]
     },
     "execution_count": 20,
     "metadata": {},
     "output_type": "execute_result"
    }
   ],
   "source": [
    "tweet_reg.score(data, y)"
   ]
  }
 ],
 "metadata": {
  "kernelspec": {
   "display_name": "Python 2",
   "language": "python",
   "name": "python2"
  },
  "language_info": {
   "codemirror_mode": {
    "name": "ipython",
    "version": 2
   },
   "file_extension": ".py",
   "mimetype": "text/x-python",
   "name": "python",
   "nbconvert_exporter": "python",
   "pygments_lexer": "ipython2",
   "version": "2.7.11"
  }
 },
 "nbformat": 4,
 "nbformat_minor": 0
}
