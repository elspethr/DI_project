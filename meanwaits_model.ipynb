{
 "cells": [
  {
   "cell_type": "code",
   "execution_count": 1,
   "metadata": {
    "collapsed": false
   },
   "outputs": [],
   "source": [
    "%matplotlib inline\n",
    "#load packages and data\n",
    "import datetime\n",
    "import MySQLdb\n",
    "import pandas.io.sql as sql\n",
    "import pandas as pd\n",
    "import numpy as np\n",
    "import scipy as sp\n",
    "from matplotlib import pyplot as plt\n",
    "import sklearn as sk\n",
    "from sklearn import cross_validation, linear_model, neighbors, feature_extraction, grid_search, pipeline, metrics, ensemble\n",
    "import dill\n",
    "import seaborn as sns\n",
    "dill.settings['recurse']=True"
   ]
  },
  {
   "cell_type": "code",
   "execution_count": 2,
   "metadata": {
    "collapsed": true
   },
   "outputs": [],
   "source": [
    "#get data from db\n",
    "conn = MySQLdb.connect(host=\"localhost\", port=3306, user=\"root\", db=\"disney_db\") #make db connection\n",
    "cursor = conn.cursor()"
   ]
  },
  {
   "cell_type": "code",
   "execution_count": 3,
   "metadata": {
    "collapsed": false
   },
   "outputs": [
    {
     "data": {
      "text/html": [
       "<div>\n",
       "<table border=\"1\" class=\"dataframe\">\n",
       "  <thead>\n",
       "    <tr style=\"text-align: right;\">\n",
       "      <th></th>\n",
       "      <th>timestamp</th>\n",
       "      <th>meanwait</th>\n",
       "      <th>tweetid</th>\n",
       "      <th>hour</th>\n",
       "      <th>conditions</th>\n",
       "      <th>wind</th>\n",
       "      <th>temp</th>\n",
       "      <th>we_ho</th>\n",
       "    </tr>\n",
       "  </thead>\n",
       "  <tbody>\n",
       "    <tr>\n",
       "      <th>0</th>\n",
       "      <td>2015-08-04 14:00:00</td>\n",
       "      <td>37.672414</td>\n",
       "      <td>12</td>\n",
       "      <td>14</td>\n",
       "      <td>Clear</td>\n",
       "      <td>6.9</td>\n",
       "      <td>89.1</td>\n",
       "      <td>0</td>\n",
       "    </tr>\n",
       "    <tr>\n",
       "      <th>1</th>\n",
       "      <td>2015-08-04 15:00:00</td>\n",
       "      <td>36.293103</td>\n",
       "      <td>13</td>\n",
       "      <td>15</td>\n",
       "      <td>Clear</td>\n",
       "      <td>5.8</td>\n",
       "      <td>89.1</td>\n",
       "      <td>0</td>\n",
       "    </tr>\n",
       "    <tr>\n",
       "      <th>2</th>\n",
       "      <td>2015-08-04 16:00:00</td>\n",
       "      <td>36.379310</td>\n",
       "      <td>17</td>\n",
       "      <td>16</td>\n",
       "      <td>Clear</td>\n",
       "      <td>8.1</td>\n",
       "      <td>87.1</td>\n",
       "      <td>0</td>\n",
       "    </tr>\n",
       "    <tr>\n",
       "      <th>3</th>\n",
       "      <td>2015-08-04 17:00:00</td>\n",
       "      <td>38.448276</td>\n",
       "      <td>8</td>\n",
       "      <td>17</td>\n",
       "      <td>Clear</td>\n",
       "      <td>6.9</td>\n",
       "      <td>82.0</td>\n",
       "      <td>0</td>\n",
       "    </tr>\n",
       "    <tr>\n",
       "      <th>4</th>\n",
       "      <td>2015-08-04 18:00:00</td>\n",
       "      <td>35.229885</td>\n",
       "      <td>13</td>\n",
       "      <td>18</td>\n",
       "      <td>Clear</td>\n",
       "      <td>4.6</td>\n",
       "      <td>78.1</td>\n",
       "      <td>0</td>\n",
       "    </tr>\n",
       "  </tbody>\n",
       "</table>\n",
       "</div>"
      ],
      "text/plain": [
       "            timestamp   meanwait  tweetid  hour conditions  wind  temp  we_ho\n",
       "0 2015-08-04 14:00:00  37.672414       12    14      Clear   6.9  89.1      0\n",
       "1 2015-08-04 15:00:00  36.293103       13    15      Clear   5.8  89.1      0\n",
       "2 2015-08-04 16:00:00  36.379310       17    16      Clear   8.1  87.1      0\n",
       "3 2015-08-04 17:00:00  38.448276        8    17      Clear   6.9  82.0      0\n",
       "4 2015-08-04 18:00:00  35.229885       13    18      Clear   4.6  78.1      0"
      ]
     },
     "execution_count": 3,
     "metadata": {},
     "output_type": "execute_result"
    }
   ],
   "source": [
    "#import preprocessed data for Disneyland\n",
    "cursor.execute(\"SELECT hod, meanwait, tweetid, hour, conditions, wind, temp, we_ho FROM dl_test_clean\")\n",
    "rows = cursor.fetchall()\n",
    "dl_df = pd.DataFrame( [[ij for ij in i] for i in rows] )\n",
    "dl_df.rename(columns={0: 'timestamp', 1: 'meanwait', 2: 'tweetid',\n",
    "                     3:'hour', 4:'conditions', 5:'wind', 6:'temp',\n",
    "                     7:'we_ho'}, inplace=True)\n",
    "dl_df.head()"
   ]
  },
  {
   "cell_type": "code",
   "execution_count": 4,
   "metadata": {
    "collapsed": false
   },
   "outputs": [
    {
     "data": {
      "text/html": [
       "<div>\n",
       "<table border=\"1\" class=\"dataframe\">\n",
       "  <thead>\n",
       "    <tr style=\"text-align: right;\">\n",
       "      <th></th>\n",
       "      <th>timestamp</th>\n",
       "      <th>meanwait</th>\n",
       "      <th>tweetid</th>\n",
       "      <th>hour</th>\n",
       "      <th>conditions</th>\n",
       "      <th>wind</th>\n",
       "      <th>temp</th>\n",
       "      <th>we_ho</th>\n",
       "    </tr>\n",
       "  </thead>\n",
       "  <tbody>\n",
       "    <tr>\n",
       "      <th>0</th>\n",
       "      <td>2015-08-04 14:00:00</td>\n",
       "      <td>34.318182</td>\n",
       "      <td>12</td>\n",
       "      <td>14</td>\n",
       "      <td>Clear</td>\n",
       "      <td>6.9</td>\n",
       "      <td>89.1</td>\n",
       "      <td>0</td>\n",
       "    </tr>\n",
       "    <tr>\n",
       "      <th>1</th>\n",
       "      <td>2015-08-04 15:00:00</td>\n",
       "      <td>34.431818</td>\n",
       "      <td>13</td>\n",
       "      <td>15</td>\n",
       "      <td>Clear</td>\n",
       "      <td>5.8</td>\n",
       "      <td>89.1</td>\n",
       "      <td>0</td>\n",
       "    </tr>\n",
       "    <tr>\n",
       "      <th>2</th>\n",
       "      <td>2015-08-04 16:00:00</td>\n",
       "      <td>34.772727</td>\n",
       "      <td>17</td>\n",
       "      <td>16</td>\n",
       "      <td>Clear</td>\n",
       "      <td>8.1</td>\n",
       "      <td>87.1</td>\n",
       "      <td>0</td>\n",
       "    </tr>\n",
       "    <tr>\n",
       "      <th>3</th>\n",
       "      <td>2015-08-04 17:00:00</td>\n",
       "      <td>33.920455</td>\n",
       "      <td>8</td>\n",
       "      <td>17</td>\n",
       "      <td>Clear</td>\n",
       "      <td>6.9</td>\n",
       "      <td>82.0</td>\n",
       "      <td>0</td>\n",
       "    </tr>\n",
       "    <tr>\n",
       "      <th>4</th>\n",
       "      <td>2015-08-04 18:00:00</td>\n",
       "      <td>33.409091</td>\n",
       "      <td>13</td>\n",
       "      <td>18</td>\n",
       "      <td>Clear</td>\n",
       "      <td>4.6</td>\n",
       "      <td>78.1</td>\n",
       "      <td>0</td>\n",
       "    </tr>\n",
       "  </tbody>\n",
       "</table>\n",
       "</div>"
      ],
      "text/plain": [
       "            timestamp   meanwait  tweetid  hour conditions  wind  temp  we_ho\n",
       "0 2015-08-04 14:00:00  34.318182       12    14      Clear   6.9  89.1      0\n",
       "1 2015-08-04 15:00:00  34.431818       13    15      Clear   5.8  89.1      0\n",
       "2 2015-08-04 16:00:00  34.772727       17    16      Clear   8.1  87.1      0\n",
       "3 2015-08-04 17:00:00  33.920455        8    17      Clear   6.9  82.0      0\n",
       "4 2015-08-04 18:00:00  33.409091       13    18      Clear   4.6  78.1      0"
      ]
     },
     "execution_count": 4,
     "metadata": {},
     "output_type": "execute_result"
    }
   ],
   "source": [
    "#import preprocessed data for California Adventure\n",
    "cursor.execute(\"SELECT hod, meanwait, tweetid, hour, conditions, wind, temp, we_ho FROM ca_test_clean\")\n",
    "rows = cursor.fetchall()\n",
    "ca_df = pd.DataFrame( [[ij for ij in i] for i in rows] )\n",
    "ca_df.rename(columns={0: 'timestamp', 1: 'meanwait', 2: 'tweetid',\n",
    "                     3:'hour', 4:'conditions', 5:'wind', 6:'temp',\n",
    "                     7:'we_ho'}, inplace=True)\n",
    "ca_df.head()"
   ]
  },
  {
   "cell_type": "code",
   "execution_count": 5,
   "metadata": {
    "collapsed": false
   },
   "outputs": [],
   "source": [
    "#close sql (don't need it anymore)\n",
    "conn.close()"
   ]
  },
  {
   "cell_type": "code",
   "execution_count": 6,
   "metadata": {
    "collapsed": false
   },
   "outputs": [
    {
     "data": {
      "text/plain": [
       "{'California Adventure': 0.0,\n",
       " 'Clear': 1.0,\n",
       " 'Disneyland': 1.0,\n",
       " 'Haze': 0.0,\n",
       " 'Mostly Cloudy': 0.0,\n",
       " 'Overcast': 0.0,\n",
       " 'Partly Cloudy': 0.0,\n",
       " 'Scattered Clouds': 0.0,\n",
       " 'hour': 14,\n",
       " 'hour2': 196,\n",
       " 'meanwait': 0.5488904200224402,\n",
       " 'temp': 89.1,\n",
       " 'temp2': 7938.809999999999,\n",
       " 'timestamp': Timestamp('2015-08-04 14:00:00'),\n",
       " 'tweetid': -0.09508062484252958,\n",
       " 'we_ho': 0,\n",
       " 'wind': 6.9,\n",
       " 'wind2': 47.61000000000001}"
      ]
     },
     "execution_count": 6,
     "metadata": {},
     "output_type": "execute_result"
    }
   ],
   "source": [
    "#merge for training, one hot encode and normalize\n",
    "result = pd.concat([dl_df, ca_df], keys=['Disneyland', 'California Adventure']).reset_index()\n",
    "\n",
    "#one hot encoding\n",
    "result = pd.concat([result, pd.get_dummies(result.level_0), pd.get_dummies(result.conditions)], axis=1)\n",
    "result.drop(['level_0', 'level_1', 'conditions'], axis=1, inplace=True)\n",
    "\n",
    "#normalize numericals\n",
    "cols_to_norm = ['meanwait','tweetid']\n",
    "result[cols_to_norm] = result[cols_to_norm].apply(lambda x: (x - x.mean()) / (x.max() - x.min()))\n",
    "\n",
    "#add squares of hod, temp, and wind\n",
    "result['temp2'] = result['temp']**2\n",
    "result['hour2'] = result['hour']**2\n",
    "result['wind2'] = result['wind']**2\n",
    "\n",
    "#convert to dict\n",
    "data = result.T.to_dict().values()\n",
    "data[0]"
   ]
  },
  {
   "cell_type": "code",
   "execution_count": 7,
   "metadata": {
    "collapsed": false
   },
   "outputs": [],
   "source": [
    "class ColumnSelector(sk.base.BaseEstimator, sk.base.TransformerMixin):\n",
    "    def __init__(self, column_names): #initialize\n",
    "        self.column_names = column_names\n",
    "\n",
    "    def fit(self, X, y=None): #fit the transformation, optional here\n",
    "        return self\n",
    "\n",
    "    def transform(self, X):\n",
    "        return [[x[column] for column in self.column_names] for x in X]\n",
    "\n",
    "\n",
    "columns = sorted(data[0].keys())\n",
    "knnpredictors = [columns[i] for i in [0,1,2,3,4,5,6,7,8,11,15,16]]\n",
    "linpredictors = [columns[i] for i in [0,1,2,3,4,5,6,7,8,9,11,12,15,16,17]]\n",
    "meanwaits = ColumnSelector(['meanwait']).transform(data) "
   ]
  },
  {
   "cell_type": "code",
   "execution_count": 12,
   "metadata": {
    "collapsed": false
   },
   "outputs": [],
   "source": [
    "class EnsembleRegressor(sk.base.BaseEstimator, sk.base.RegressorMixin):\n",
    "    \"\"\"Joins a linear, random forest, and nearest neighbors model.\"\"\"\n",
    "    def __init__(self, nbrs, samples):\n",
    "        self.nbrs = nbrs\n",
    "        self.samples = samples\n",
    "        pass\n",
    "    \n",
    "    def fit(self, X, y):\n",
    "        self.linear_regression = linear_model.LinearRegression().fit(X, y)\n",
    "        y_err = y - self.linear_regression.predict(X)\n",
    "\n",
    "        self.nearest_neighbors = neighbors.KNeighborsRegressor(n_neighbors=self.nbrs).fit(X, y_err)\n",
    "        self.random_forest = ensemble.RandomForestRegressor(min_samples_leaf=self.samples).fit(X, y_err)\n",
    "\n",
    "        X_ensemble = pd.DataFrame({\n",
    "            \"NEAR\": self.nearest_neighbors.predict(X),\n",
    "            \"FOREST\": self.random_forest.predict(X),\n",
    "            \"LINEAR\": self.linear_regression.predict(X),\n",
    "        })\n",
    "        self.ensemble_regression = linear_model.LinearRegression().fit(X_ensemble, y)\n",
    "        return self\n",
    "    \n",
    "    def predict(self, X):\n",
    "        X_ensemble = pd.DataFrame({\n",
    "            \"NEAR\": self.nearest_neighbors.predict(X),\n",
    "            \"FOREST\": self.random_forest.predict(X),\n",
    "            \"LINEAR\": self.linear_regression.predict(X),\n",
    "        })\n",
    "        return self.ensemble_regression.predict(X_ensemble)"
   ]
  },
  {
   "cell_type": "code",
   "execution_count": 16,
   "metadata": {
    "collapsed": false
   },
   "outputs": [
    {
     "data": {
      "text/plain": [
       "{'est__nbrs': 86, 'est__samples': 1}"
      ]
     },
     "execution_count": 16,
     "metadata": {},
     "output_type": "execute_result"
    }
   ],
   "source": [
    "nestedreg = pipeline.Pipeline([('colsel', ColumnSelector(linpredictors)),\n",
    "                               ('est', EnsembleRegressor(nbrs, samples))])  \n",
    "\n",
    "y1d = [item for sublist in meanwaits for item in sublist]\n",
    "#nestedreg.fit(data, y1d)\n",
    "#nestedreg.score(data, y1d)    \n",
    "\n",
    "#nestedreg.get_params().keys()\n",
    "parameters = dict(est__nbrs=range(1,101,5), est__samples=range(1,32,3))\n",
    "nested_cv = sk.grid_search.GridSearchCV(nestedreg, param_grid=parameters)\n",
    "nested_cv.fit(data, y1d)\n",
    "nested_cv.best_params_"
   ]
  },
  {
   "cell_type": "code",
   "execution_count": 17,
   "metadata": {
    "collapsed": false
   },
   "outputs": [
    {
     "data": {
      "text/plain": [
       "0.89522006472146431"
      ]
     },
     "execution_count": 17,
     "metadata": {},
     "output_type": "execute_result"
    }
   ],
   "source": [
    "#nestedreg.fit(data, y1d)\n",
    "nested_cv.score(data, y1d)  "
   ]
  },
  {
   "cell_type": "code",
   "execution_count": 18,
   "metadata": {
    "collapsed": true
   },
   "outputs": [],
   "source": [
    "nbrs = 86\n",
    "samples = 1\n",
    "meanwait_reg = pipeline.Pipeline([('colsel', ColumnSelector(linpredictors)),\n",
    "                               ('est', EnsembleRegressor(nbrs, samples))])  \n",
    "meanwait_reg.fit(data,y1d)\n",
    "dill.dump(meanwait_reg, open('meanwait_model.pkl', 'w'))"
   ]
  }
 ],
 "metadata": {
  "kernelspec": {
   "display_name": "Python 2",
   "language": "python",
   "name": "python2"
  },
  "language_info": {
   "codemirror_mode": {
    "name": "ipython",
    "version": 2
   },
   "file_extension": ".py",
   "mimetype": "text/x-python",
   "name": "python",
   "nbconvert_exporter": "python",
   "pygments_lexer": "ipython2",
   "version": "2.7.11"
  }
 },
 "nbformat": 4,
 "nbformat_minor": 0
}
