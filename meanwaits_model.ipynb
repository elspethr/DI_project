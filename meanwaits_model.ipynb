{
 "cells": [
  {
   "cell_type": "code",
   "execution_count": 155,
   "metadata": {
    "collapsed": false
   },
   "outputs": [],
   "source": [
    "%matplotlib inline\n",
    "#load packages and data\n",
    "import datetime\n",
    "import MySQLdb\n",
    "import pandas.io.sql as sql\n",
    "import pandas as pd\n",
    "import numpy as np\n",
    "import scipy as sp\n",
    "from matplotlib import pyplot as plt\n",
    "import sklearn as sk\n",
    "from sklearn import cross_validation, linear_model, neighbors, feature_extraction, grid_search, pipeline, metrics, ensemble\n",
    "import dill\n",
    "import seaborn as sns\n",
    "dill.settings['recurse']=True"
   ]
  },
  {
   "cell_type": "code",
   "execution_count": 48,
   "metadata": {
    "collapsed": true
   },
   "outputs": [],
   "source": [
    "#get data from db\n",
    "conn = MySQLdb.connect(host=\"localhost\", port=3306, user=\"root\", db=\"disney_db\") #make db connection\n",
    "cursor = conn.cursor()"
   ]
  },
  {
   "cell_type": "code",
   "execution_count": 49,
   "metadata": {
    "collapsed": false
   },
   "outputs": [
    {
     "data": {
      "text/html": [
       "<div>\n",
       "<table border=\"1\" class=\"dataframe\">\n",
       "  <thead>\n",
       "    <tr style=\"text-align: right;\">\n",
       "      <th></th>\n",
       "      <th>timestamp</th>\n",
       "      <th>meanwait</th>\n",
       "      <th>tweetid</th>\n",
       "      <th>hour</th>\n",
       "      <th>conditions</th>\n",
       "      <th>wind</th>\n",
       "      <th>temp</th>\n",
       "      <th>we_ho</th>\n",
       "    </tr>\n",
       "  </thead>\n",
       "  <tbody>\n",
       "    <tr>\n",
       "      <th>0</th>\n",
       "      <td>2015-08-04 14:00:00</td>\n",
       "      <td>37.672414</td>\n",
       "      <td>12</td>\n",
       "      <td>14</td>\n",
       "      <td>Clear</td>\n",
       "      <td>6.9</td>\n",
       "      <td>89.1</td>\n",
       "      <td>0</td>\n",
       "    </tr>\n",
       "    <tr>\n",
       "      <th>1</th>\n",
       "      <td>2015-08-04 15:00:00</td>\n",
       "      <td>36.293103</td>\n",
       "      <td>13</td>\n",
       "      <td>15</td>\n",
       "      <td>Clear</td>\n",
       "      <td>5.8</td>\n",
       "      <td>89.1</td>\n",
       "      <td>0</td>\n",
       "    </tr>\n",
       "    <tr>\n",
       "      <th>2</th>\n",
       "      <td>2015-08-04 16:00:00</td>\n",
       "      <td>36.379310</td>\n",
       "      <td>17</td>\n",
       "      <td>16</td>\n",
       "      <td>Clear</td>\n",
       "      <td>8.1</td>\n",
       "      <td>87.1</td>\n",
       "      <td>0</td>\n",
       "    </tr>\n",
       "    <tr>\n",
       "      <th>3</th>\n",
       "      <td>2015-08-04 17:00:00</td>\n",
       "      <td>38.448276</td>\n",
       "      <td>8</td>\n",
       "      <td>17</td>\n",
       "      <td>Clear</td>\n",
       "      <td>6.9</td>\n",
       "      <td>82.0</td>\n",
       "      <td>0</td>\n",
       "    </tr>\n",
       "    <tr>\n",
       "      <th>4</th>\n",
       "      <td>2015-08-04 18:00:00</td>\n",
       "      <td>35.229885</td>\n",
       "      <td>13</td>\n",
       "      <td>18</td>\n",
       "      <td>Clear</td>\n",
       "      <td>4.6</td>\n",
       "      <td>78.1</td>\n",
       "      <td>0</td>\n",
       "    </tr>\n",
       "  </tbody>\n",
       "</table>\n",
       "</div>"
      ],
      "text/plain": [
       "            timestamp   meanwait  tweetid  hour conditions  wind  temp  we_ho\n",
       "0 2015-08-04 14:00:00  37.672414       12    14      Clear   6.9  89.1      0\n",
       "1 2015-08-04 15:00:00  36.293103       13    15      Clear   5.8  89.1      0\n",
       "2 2015-08-04 16:00:00  36.379310       17    16      Clear   8.1  87.1      0\n",
       "3 2015-08-04 17:00:00  38.448276        8    17      Clear   6.9  82.0      0\n",
       "4 2015-08-04 18:00:00  35.229885       13    18      Clear   4.6  78.1      0"
      ]
     },
     "execution_count": 49,
     "metadata": {},
     "output_type": "execute_result"
    }
   ],
   "source": [
    "#import preprocessed data for Disneyland\n",
    "cursor.execute(\"SELECT hod, meanwait, tweetid, hour, conditions, wind, temp, we_ho FROM dl_test_clean\")\n",
    "rows = cursor.fetchall()\n",
    "dl_df = pd.DataFrame( [[ij for ij in i] for i in rows] )\n",
    "dl_df.rename(columns={0: 'timestamp', 1: 'meanwait', 2: 'tweetid',\n",
    "                     3:'hour', 4:'conditions', 5:'wind', 6:'temp',\n",
    "                     7:'we_ho'}, inplace=True)\n",
    "dl_df.head()"
   ]
  },
  {
   "cell_type": "code",
   "execution_count": 50,
   "metadata": {
    "collapsed": false
   },
   "outputs": [
    {
     "data": {
      "text/html": [
       "<div>\n",
       "<table border=\"1\" class=\"dataframe\">\n",
       "  <thead>\n",
       "    <tr style=\"text-align: right;\">\n",
       "      <th></th>\n",
       "      <th>timestamp</th>\n",
       "      <th>meanwait</th>\n",
       "      <th>tweetid</th>\n",
       "      <th>hour</th>\n",
       "      <th>conditions</th>\n",
       "      <th>wind</th>\n",
       "      <th>temp</th>\n",
       "      <th>we_ho</th>\n",
       "    </tr>\n",
       "  </thead>\n",
       "  <tbody>\n",
       "    <tr>\n",
       "      <th>0</th>\n",
       "      <td>2015-08-04 14:00:00</td>\n",
       "      <td>34.318182</td>\n",
       "      <td>12</td>\n",
       "      <td>14</td>\n",
       "      <td>Clear</td>\n",
       "      <td>6.9</td>\n",
       "      <td>89.1</td>\n",
       "      <td>0</td>\n",
       "    </tr>\n",
       "    <tr>\n",
       "      <th>1</th>\n",
       "      <td>2015-08-04 15:00:00</td>\n",
       "      <td>34.431818</td>\n",
       "      <td>13</td>\n",
       "      <td>15</td>\n",
       "      <td>Clear</td>\n",
       "      <td>5.8</td>\n",
       "      <td>89.1</td>\n",
       "      <td>0</td>\n",
       "    </tr>\n",
       "    <tr>\n",
       "      <th>2</th>\n",
       "      <td>2015-08-04 16:00:00</td>\n",
       "      <td>34.772727</td>\n",
       "      <td>17</td>\n",
       "      <td>16</td>\n",
       "      <td>Clear</td>\n",
       "      <td>8.1</td>\n",
       "      <td>87.1</td>\n",
       "      <td>0</td>\n",
       "    </tr>\n",
       "    <tr>\n",
       "      <th>3</th>\n",
       "      <td>2015-08-04 17:00:00</td>\n",
       "      <td>33.920455</td>\n",
       "      <td>8</td>\n",
       "      <td>17</td>\n",
       "      <td>Clear</td>\n",
       "      <td>6.9</td>\n",
       "      <td>82.0</td>\n",
       "      <td>0</td>\n",
       "    </tr>\n",
       "    <tr>\n",
       "      <th>4</th>\n",
       "      <td>2015-08-04 18:00:00</td>\n",
       "      <td>33.409091</td>\n",
       "      <td>13</td>\n",
       "      <td>18</td>\n",
       "      <td>Clear</td>\n",
       "      <td>4.6</td>\n",
       "      <td>78.1</td>\n",
       "      <td>0</td>\n",
       "    </tr>\n",
       "  </tbody>\n",
       "</table>\n",
       "</div>"
      ],
      "text/plain": [
       "            timestamp   meanwait  tweetid  hour conditions  wind  temp  we_ho\n",
       "0 2015-08-04 14:00:00  34.318182       12    14      Clear   6.9  89.1      0\n",
       "1 2015-08-04 15:00:00  34.431818       13    15      Clear   5.8  89.1      0\n",
       "2 2015-08-04 16:00:00  34.772727       17    16      Clear   8.1  87.1      0\n",
       "3 2015-08-04 17:00:00  33.920455        8    17      Clear   6.9  82.0      0\n",
       "4 2015-08-04 18:00:00  33.409091       13    18      Clear   4.6  78.1      0"
      ]
     },
     "execution_count": 50,
     "metadata": {},
     "output_type": "execute_result"
    }
   ],
   "source": [
    "#import preprocessed data for California Adventure\n",
    "cursor.execute(\"SELECT hod, meanwait, tweetid, hour, conditions, wind, temp, we_ho FROM ca_test_clean\")\n",
    "rows = cursor.fetchall()\n",
    "ca_df = pd.DataFrame( [[ij for ij in i] for i in rows] )\n",
    "ca_df.rename(columns={0: 'timestamp', 1: 'meanwait', 2: 'tweetid',\n",
    "                     3:'hour', 4:'conditions', 5:'wind', 6:'temp',\n",
    "                     7:'we_ho'}, inplace=True)\n",
    "ca_df.head()"
   ]
  },
  {
   "cell_type": "code",
   "execution_count": 51,
   "metadata": {
    "collapsed": false
   },
   "outputs": [],
   "source": [
    "#close sql (don't need it anymore)\n",
    "conn.close()"
   ]
  },
  {
   "cell_type": "code",
   "execution_count": 121,
   "metadata": {
    "collapsed": false
   },
   "outputs": [
    {
     "data": {
      "text/plain": [
       "{'California Adventure': 0.0,\n",
       " 'Clear': 1.0,\n",
       " 'Disneyland': 1.0,\n",
       " 'Haze': 0.0,\n",
       " 'Mostly Cloudy': 0.0,\n",
       " 'Overcast': 0.0,\n",
       " 'Partly Cloudy': 0.0,\n",
       " 'Scattered Clouds': 0.0,\n",
       " 'hour': 14,\n",
       " 'hour2': 196,\n",
       " 'meanwait': 0.5488904200224402,\n",
       " 'temp': 89.1,\n",
       " 'temp2': 7938.809999999999,\n",
       " 'timestamp': Timestamp('2015-08-04 14:00:00'),\n",
       " 'tweetid': -0.09508062484252958,\n",
       " 'we_ho': 0,\n",
       " 'wind': 6.9,\n",
       " 'wind2': 47.61000000000001}"
      ]
     },
     "execution_count": 121,
     "metadata": {},
     "output_type": "execute_result"
    }
   ],
   "source": [
    "#merge for training, one hot encode and normalize\n",
    "result = pd.concat([dl_df, ca_df], keys=['Disneyland', 'California Adventure']).reset_index()\n",
    "\n",
    "#one hot encoding\n",
    "result = pd.concat([result, pd.get_dummies(result.level_0), pd.get_dummies(result.conditions)], axis=1)\n",
    "result.drop(['level_0', 'level_1', 'conditions'], axis=1, inplace=True)\n",
    "\n",
    "#normalize numericals\n",
    "cols_to_norm = ['meanwait','tweetid']\n",
    "result[cols_to_norm] = result[cols_to_norm].apply(lambda x: (x - x.mean()) / (x.max() - x.min()))\n",
    "\n",
    "#add squares of hod, temp, and wind\n",
    "result['temp2'] = result['temp']**2\n",
    "result['hour2'] = result['hour']**2\n",
    "result['wind2'] = result['wind']**2\n",
    "\n",
    "#convert to dict\n",
    "data = result.T.to_dict().values()\n",
    "data[0]"
   ]
  },
  {
   "cell_type": "code",
   "execution_count": 131,
   "metadata": {
    "collapsed": false
   },
   "outputs": [],
   "source": [
    "class ColumnSelector(sk.base.BaseEstimator, sk.base.TransformerMixin):\n",
    "    def __init__(self, column_names): #initialize\n",
    "        self.column_names = column_names\n",
    "\n",
    "    def fit(self, X, y=None): #fit the transformation, optional here\n",
    "        return self\n",
    "\n",
    "    def transform(self, X):\n",
    "        return [[x[column] for column in self.column_names] for x in X]\n",
    "\n",
    "\n",
    "columns = sorted(data[0].keys())\n",
    "knnpredictors = [columns[i] for i in [0,1,2,3,4,5,6,7,8,11,15,16]]\n",
    "linpredictors = [columns[i] for i in [0,1,2,3,4,5,6,7,8,9,11,12,15,16,17]]\n",
    "meanwaits = ColumnSelector(['meanwait']).transform(data) \n",
    "tweetid = ColumnSelector(['tweetid']).transform(data) #but should do this again with the full dataset"
   ]
  },
  {
   "cell_type": "code",
   "execution_count": 102,
   "metadata": {
    "collapsed": true
   },
   "outputs": [],
   "source": [
    "class SquareTransformer(sk.base.BaseEstimator, sk.base.TransformerMixin):\n",
    "    def __init__(self, column_names): #initialize\n",
    "        self.column_names = column_names\n",
    "\n",
    "    def fit(self, X, y=None): #fit the transformation, optional here\n",
    "        return self\n",
    "\n",
    "    def transform(self, X):\n",
    "        return [[x[column] for column in self.column_names] for x in X]"
   ]
  },
  {
   "cell_type": "code",
   "execution_count": 132,
   "metadata": {
    "collapsed": false
   },
   "outputs": [
    {
     "data": {
      "text/plain": [
       "0.50026424835973893"
      ]
     },
     "execution_count": 132,
     "metadata": {},
     "output_type": "execute_result"
    }
   ],
   "source": [
    "#knn model\n",
    "\n",
    "#knnpipe = pipeline.Pipeline([('colsel', ColumnSelector(predictors)),\n",
    "#                             ('est', sk.neighbors.KNeighborsRegressor())])\n",
    "\n",
    "#parameters = dict(est__n_neighbors=range(1, 101, 5))\n",
    "#knn_cv = sk.grid_search.GridSearchCV(knnpipe, param_grid=parameters)\n",
    "#testfit = knn_cv.fit(data, meanwaits)\n",
    "#knn_cv.best_params_\n",
    "\n",
    "knnpipe = pipeline.Pipeline([('colsel', ColumnSelector(knnpredictors)),\n",
    "                             ('est', sk.neighbors.KNeighborsRegressor(n_neighbors=6))])\n",
    "knnpipe.fit(data, tweetid)\n",
    "knnpipe.score(data, tweetid)"
   ]
  },
  {
   "cell_type": "code",
   "execution_count": 148,
   "metadata": {
    "collapsed": false
   },
   "outputs": [
    {
     "data": {
      "text/plain": [
       "0.37933394491617256"
      ]
     },
     "execution_count": 148,
     "metadata": {},
     "output_type": "execute_result"
    }
   ],
   "source": [
    "linpipe = pipeline.Pipeline([('colsel', ColumnSelector(linpredictors)),\n",
    "                             ('linreg', linear_model.LinearRegression())])\n",
    "\n",
    "#loo = cross_validation.KFold(len(meanwaits), 10, shuffle=True)\n",
    "#scores = cross_validation.cross_val_score(linpipe, data, meanwaits, cv=loo)\n",
    "#scores.mean()\n",
    "\n",
    "linpipe.fit(data, meanwaits)\n",
    "linpipe.score(data, meanwaits)"
   ]
  },
  {
   "cell_type": "code",
   "execution_count": 215,
   "metadata": {
    "collapsed": false
   },
   "outputs": [],
   "source": [
    "class EnsembleRegressor(sk.base.BaseEstimator, sk.base.RegressorMixin):\n",
    "    \"\"\"Joins a linear, random forest, and nearest neighbors model.\"\"\"\n",
    "    def __init__(self, neighbors, samples):\n",
    "        self.neighbors = neighbors\n",
    "        self.samples = samples\n",
    "        pass\n",
    "    \n",
    "    def fit(self, X, y):\n",
    "        self.linear_regression = linear_model.LinearRegression().fit(X, y)\n",
    "        y_err = y - self.linear_regression.predict(X)\n",
    "\n",
    "        self.nearest_neighbors = neighbors.KNeighborsRegressor(n_neighbors=self.neighbors).fit(X, y_err)\n",
    "        self.random_forest = ensemble.RandomForestRegressor(min_samples_leaf=self.samples).fit(X, y_err)\n",
    "\n",
    "        X_ensemble = pd.DataFrame({\n",
    "            \"NEAR\": self.nearest_neighbors.predict(X),\n",
    "            \"FOREST\": self.random_forest.predict(X),\n",
    "            \"LINEAR\": self.linear_regression.predict(X),\n",
    "        })\n",
    "        self.ensemble_regression = linear_model.LinearRegression().fit(X_ensemble, y)\n",
    "        return self\n",
    "    \n",
    "    def predict(self, X):\n",
    "        X_ensemble = pd.DataFrame({\n",
    "            \"NEAR\": self.nearest_neighbors.predict(X),\n",
    "            \"FOREST\": self.random_forest.predict(X),\n",
    "            \"LINEAR\": self.linear_regression.predict(X),\n",
    "        })\n",
    "        return self.ensemble_regression.predict(X_ensemble)"
   ]
  },
  {
   "cell_type": "code",
   "execution_count": 218,
   "metadata": {
    "collapsed": false
   },
   "outputs": [
    {
     "ename": "AttributeError",
     "evalue": "'int' object has no attribute 'KNeighborsRegressor'",
     "output_type": "error",
     "traceback": [
      "\u001b[0;31m---------------------------------------------------------------------------\u001b[0m",
      "\u001b[0;31mAttributeError\u001b[0m                            Traceback (most recent call last)",
      "\u001b[0;32m<ipython-input-218-b6febc41893f>\u001b[0m in \u001b[0;36m<module>\u001b[0;34m()\u001b[0m\n\u001b[1;32m     11\u001b[0m \u001b[0mparameters\u001b[0m \u001b[0;34m=\u001b[0m \u001b[0mdict\u001b[0m\u001b[0;34m(\u001b[0m\u001b[0mest__neighbors\u001b[0m\u001b[0;34m=\u001b[0m\u001b[0mrange\u001b[0m\u001b[0;34m(\u001b[0m\u001b[0;36m1\u001b[0m\u001b[0;34m,\u001b[0m\u001b[0;36m101\u001b[0m\u001b[0;34m,\u001b[0m\u001b[0;36m5\u001b[0m\u001b[0;34m)\u001b[0m\u001b[0;34m,\u001b[0m \u001b[0mest__samples\u001b[0m\u001b[0;34m=\u001b[0m\u001b[0mrange\u001b[0m\u001b[0;34m(\u001b[0m\u001b[0;36m1\u001b[0m\u001b[0;34m,\u001b[0m\u001b[0;36m32\u001b[0m\u001b[0;34m,\u001b[0m\u001b[0;36m3\u001b[0m\u001b[0;34m)\u001b[0m\u001b[0;34m)\u001b[0m\u001b[0;34m\u001b[0m\u001b[0m\n\u001b[1;32m     12\u001b[0m \u001b[0mnested_cv\u001b[0m \u001b[0;34m=\u001b[0m \u001b[0msk\u001b[0m\u001b[0;34m.\u001b[0m\u001b[0mgrid_search\u001b[0m\u001b[0;34m.\u001b[0m\u001b[0mGridSearchCV\u001b[0m\u001b[0;34m(\u001b[0m\u001b[0mnestedreg\u001b[0m\u001b[0;34m,\u001b[0m \u001b[0mparam_grid\u001b[0m\u001b[0;34m=\u001b[0m\u001b[0mparameters\u001b[0m\u001b[0;34m)\u001b[0m\u001b[0;34m\u001b[0m\u001b[0m\n\u001b[0;32m---> 13\u001b[0;31m \u001b[0mnested_cv\u001b[0m\u001b[0;34m.\u001b[0m\u001b[0mfit\u001b[0m\u001b[0;34m(\u001b[0m\u001b[0mdata\u001b[0m\u001b[0;34m,\u001b[0m \u001b[0my1d\u001b[0m\u001b[0;34m)\u001b[0m\u001b[0;34m\u001b[0m\u001b[0m\n\u001b[0m\u001b[1;32m     14\u001b[0m \u001b[0;31m#nested_cv.best_params_\u001b[0m\u001b[0;34m\u001b[0m\u001b[0;34m\u001b[0m\u001b[0m\n\u001b[1;32m     15\u001b[0m \u001b[0;34m\u001b[0m\u001b[0m\n",
      "\u001b[0;32m/usr/local/lib/python2.7/site-packages/sklearn/grid_search.pyc\u001b[0m in \u001b[0;36mfit\u001b[0;34m(self, X, y)\u001b[0m\n\u001b[1;32m    802\u001b[0m \u001b[0;34m\u001b[0m\u001b[0m\n\u001b[1;32m    803\u001b[0m         \"\"\"\n\u001b[0;32m--> 804\u001b[0;31m         \u001b[0;32mreturn\u001b[0m \u001b[0mself\u001b[0m\u001b[0;34m.\u001b[0m\u001b[0m_fit\u001b[0m\u001b[0;34m(\u001b[0m\u001b[0mX\u001b[0m\u001b[0;34m,\u001b[0m \u001b[0my\u001b[0m\u001b[0;34m,\u001b[0m \u001b[0mParameterGrid\u001b[0m\u001b[0;34m(\u001b[0m\u001b[0mself\u001b[0m\u001b[0;34m.\u001b[0m\u001b[0mparam_grid\u001b[0m\u001b[0;34m)\u001b[0m\u001b[0;34m)\u001b[0m\u001b[0;34m\u001b[0m\u001b[0m\n\u001b[0m\u001b[1;32m    805\u001b[0m \u001b[0;34m\u001b[0m\u001b[0m\n\u001b[1;32m    806\u001b[0m \u001b[0;34m\u001b[0m\u001b[0m\n",
      "\u001b[0;32m/usr/local/lib/python2.7/site-packages/sklearn/grid_search.pyc\u001b[0m in \u001b[0;36m_fit\u001b[0;34m(self, X, y, parameter_iterable)\u001b[0m\n\u001b[1;32m    551\u001b[0m                                     \u001b[0mself\u001b[0m\u001b[0;34m.\u001b[0m\u001b[0mfit_params\u001b[0m\u001b[0;34m,\u001b[0m \u001b[0mreturn_parameters\u001b[0m\u001b[0;34m=\u001b[0m\u001b[0mTrue\u001b[0m\u001b[0;34m,\u001b[0m\u001b[0;34m\u001b[0m\u001b[0m\n\u001b[1;32m    552\u001b[0m                                     error_score=self.error_score)\n\u001b[0;32m--> 553\u001b[0;31m                 \u001b[0;32mfor\u001b[0m \u001b[0mparameters\u001b[0m \u001b[0;32min\u001b[0m \u001b[0mparameter_iterable\u001b[0m\u001b[0;34m\u001b[0m\u001b[0m\n\u001b[0m\u001b[1;32m    554\u001b[0m                 for train, test in cv)\n\u001b[1;32m    555\u001b[0m \u001b[0;34m\u001b[0m\u001b[0m\n",
      "\u001b[0;32m/usr/local/lib/python2.7/site-packages/sklearn/externals/joblib/parallel.pyc\u001b[0m in \u001b[0;36m__call__\u001b[0;34m(self, iterable)\u001b[0m\n\u001b[1;32m    798\u001b[0m             \u001b[0;31m# was dispatched. In particular this covers the edge\u001b[0m\u001b[0;34m\u001b[0m\u001b[0;34m\u001b[0m\u001b[0m\n\u001b[1;32m    799\u001b[0m             \u001b[0;31m# case of Parallel used with an exhausted iterator.\u001b[0m\u001b[0;34m\u001b[0m\u001b[0;34m\u001b[0m\u001b[0m\n\u001b[0;32m--> 800\u001b[0;31m             \u001b[0;32mwhile\u001b[0m \u001b[0mself\u001b[0m\u001b[0;34m.\u001b[0m\u001b[0mdispatch_one_batch\u001b[0m\u001b[0;34m(\u001b[0m\u001b[0miterator\u001b[0m\u001b[0;34m)\u001b[0m\u001b[0;34m:\u001b[0m\u001b[0;34m\u001b[0m\u001b[0m\n\u001b[0m\u001b[1;32m    801\u001b[0m                 \u001b[0mself\u001b[0m\u001b[0;34m.\u001b[0m\u001b[0m_iterating\u001b[0m \u001b[0;34m=\u001b[0m \u001b[0mTrue\u001b[0m\u001b[0;34m\u001b[0m\u001b[0m\n\u001b[1;32m    802\u001b[0m             \u001b[0;32melse\u001b[0m\u001b[0;34m:\u001b[0m\u001b[0;34m\u001b[0m\u001b[0m\n",
      "\u001b[0;32m/usr/local/lib/python2.7/site-packages/sklearn/externals/joblib/parallel.pyc\u001b[0m in \u001b[0;36mdispatch_one_batch\u001b[0;34m(self, iterator)\u001b[0m\n\u001b[1;32m    656\u001b[0m                 \u001b[0;32mreturn\u001b[0m \u001b[0mFalse\u001b[0m\u001b[0;34m\u001b[0m\u001b[0m\n\u001b[1;32m    657\u001b[0m             \u001b[0;32melse\u001b[0m\u001b[0;34m:\u001b[0m\u001b[0;34m\u001b[0m\u001b[0m\n\u001b[0;32m--> 658\u001b[0;31m                 \u001b[0mself\u001b[0m\u001b[0;34m.\u001b[0m\u001b[0m_dispatch\u001b[0m\u001b[0;34m(\u001b[0m\u001b[0mtasks\u001b[0m\u001b[0;34m)\u001b[0m\u001b[0;34m\u001b[0m\u001b[0m\n\u001b[0m\u001b[1;32m    659\u001b[0m                 \u001b[0;32mreturn\u001b[0m \u001b[0mTrue\u001b[0m\u001b[0;34m\u001b[0m\u001b[0m\n\u001b[1;32m    660\u001b[0m \u001b[0;34m\u001b[0m\u001b[0m\n",
      "\u001b[0;32m/usr/local/lib/python2.7/site-packages/sklearn/externals/joblib/parallel.pyc\u001b[0m in \u001b[0;36m_dispatch\u001b[0;34m(self, batch)\u001b[0m\n\u001b[1;32m    564\u001b[0m \u001b[0;34m\u001b[0m\u001b[0m\n\u001b[1;32m    565\u001b[0m         \u001b[0;32mif\u001b[0m \u001b[0mself\u001b[0m\u001b[0;34m.\u001b[0m\u001b[0m_pool\u001b[0m \u001b[0;32mis\u001b[0m \u001b[0mNone\u001b[0m\u001b[0;34m:\u001b[0m\u001b[0;34m\u001b[0m\u001b[0m\n\u001b[0;32m--> 566\u001b[0;31m             \u001b[0mjob\u001b[0m \u001b[0;34m=\u001b[0m \u001b[0mImmediateComputeBatch\u001b[0m\u001b[0;34m(\u001b[0m\u001b[0mbatch\u001b[0m\u001b[0;34m)\u001b[0m\u001b[0;34m\u001b[0m\u001b[0m\n\u001b[0m\u001b[1;32m    567\u001b[0m             \u001b[0mself\u001b[0m\u001b[0;34m.\u001b[0m\u001b[0m_jobs\u001b[0m\u001b[0;34m.\u001b[0m\u001b[0mappend\u001b[0m\u001b[0;34m(\u001b[0m\u001b[0mjob\u001b[0m\u001b[0;34m)\u001b[0m\u001b[0;34m\u001b[0m\u001b[0m\n\u001b[1;32m    568\u001b[0m             \u001b[0mself\u001b[0m\u001b[0;34m.\u001b[0m\u001b[0mn_dispatched_batches\u001b[0m \u001b[0;34m+=\u001b[0m \u001b[0;36m1\u001b[0m\u001b[0;34m\u001b[0m\u001b[0m\n",
      "\u001b[0;32m/usr/local/lib/python2.7/site-packages/sklearn/externals/joblib/parallel.pyc\u001b[0m in \u001b[0;36m__init__\u001b[0;34m(self, batch)\u001b[0m\n\u001b[1;32m    178\u001b[0m         \u001b[0;31m# Don't delay the application, to avoid keeping the input\u001b[0m\u001b[0;34m\u001b[0m\u001b[0;34m\u001b[0m\u001b[0m\n\u001b[1;32m    179\u001b[0m         \u001b[0;31m# arguments in memory\u001b[0m\u001b[0;34m\u001b[0m\u001b[0;34m\u001b[0m\u001b[0m\n\u001b[0;32m--> 180\u001b[0;31m         \u001b[0mself\u001b[0m\u001b[0;34m.\u001b[0m\u001b[0mresults\u001b[0m \u001b[0;34m=\u001b[0m \u001b[0mbatch\u001b[0m\u001b[0;34m(\u001b[0m\u001b[0;34m)\u001b[0m\u001b[0;34m\u001b[0m\u001b[0m\n\u001b[0m\u001b[1;32m    181\u001b[0m \u001b[0;34m\u001b[0m\u001b[0m\n\u001b[1;32m    182\u001b[0m     \u001b[0;32mdef\u001b[0m \u001b[0mget\u001b[0m\u001b[0;34m(\u001b[0m\u001b[0mself\u001b[0m\u001b[0;34m)\u001b[0m\u001b[0;34m:\u001b[0m\u001b[0;34m\u001b[0m\u001b[0m\n",
      "\u001b[0;32m/usr/local/lib/python2.7/site-packages/sklearn/externals/joblib/parallel.pyc\u001b[0m in \u001b[0;36m__call__\u001b[0;34m(self)\u001b[0m\n\u001b[1;32m     70\u001b[0m \u001b[0;34m\u001b[0m\u001b[0m\n\u001b[1;32m     71\u001b[0m     \u001b[0;32mdef\u001b[0m \u001b[0m__call__\u001b[0m\u001b[0;34m(\u001b[0m\u001b[0mself\u001b[0m\u001b[0;34m)\u001b[0m\u001b[0;34m:\u001b[0m\u001b[0;34m\u001b[0m\u001b[0m\n\u001b[0;32m---> 72\u001b[0;31m         \u001b[0;32mreturn\u001b[0m \u001b[0;34m[\u001b[0m\u001b[0mfunc\u001b[0m\u001b[0;34m(\u001b[0m\u001b[0;34m*\u001b[0m\u001b[0margs\u001b[0m\u001b[0;34m,\u001b[0m \u001b[0;34m**\u001b[0m\u001b[0mkwargs\u001b[0m\u001b[0;34m)\u001b[0m \u001b[0;32mfor\u001b[0m \u001b[0mfunc\u001b[0m\u001b[0;34m,\u001b[0m \u001b[0margs\u001b[0m\u001b[0;34m,\u001b[0m \u001b[0mkwargs\u001b[0m \u001b[0;32min\u001b[0m \u001b[0mself\u001b[0m\u001b[0;34m.\u001b[0m\u001b[0mitems\u001b[0m\u001b[0;34m]\u001b[0m\u001b[0;34m\u001b[0m\u001b[0m\n\u001b[0m\u001b[1;32m     73\u001b[0m \u001b[0;34m\u001b[0m\u001b[0m\n\u001b[1;32m     74\u001b[0m     \u001b[0;32mdef\u001b[0m \u001b[0m__len__\u001b[0m\u001b[0;34m(\u001b[0m\u001b[0mself\u001b[0m\u001b[0;34m)\u001b[0m\u001b[0;34m:\u001b[0m\u001b[0;34m\u001b[0m\u001b[0m\n",
      "\u001b[0;32m/usr/local/lib/python2.7/site-packages/sklearn/cross_validation.pyc\u001b[0m in \u001b[0;36m_fit_and_score\u001b[0;34m(estimator, X, y, scorer, train, test, verbose, parameters, fit_params, return_train_score, return_parameters, error_score)\u001b[0m\n\u001b[1;32m   1529\u001b[0m             \u001b[0mestimator\u001b[0m\u001b[0;34m.\u001b[0m\u001b[0mfit\u001b[0m\u001b[0;34m(\u001b[0m\u001b[0mX_train\u001b[0m\u001b[0;34m,\u001b[0m \u001b[0;34m**\u001b[0m\u001b[0mfit_params\u001b[0m\u001b[0;34m)\u001b[0m\u001b[0;34m\u001b[0m\u001b[0m\n\u001b[1;32m   1530\u001b[0m         \u001b[0;32melse\u001b[0m\u001b[0;34m:\u001b[0m\u001b[0;34m\u001b[0m\u001b[0m\n\u001b[0;32m-> 1531\u001b[0;31m             \u001b[0mestimator\u001b[0m\u001b[0;34m.\u001b[0m\u001b[0mfit\u001b[0m\u001b[0;34m(\u001b[0m\u001b[0mX_train\u001b[0m\u001b[0;34m,\u001b[0m \u001b[0my_train\u001b[0m\u001b[0;34m,\u001b[0m \u001b[0;34m**\u001b[0m\u001b[0mfit_params\u001b[0m\u001b[0;34m)\u001b[0m\u001b[0;34m\u001b[0m\u001b[0m\n\u001b[0m\u001b[1;32m   1532\u001b[0m \u001b[0;34m\u001b[0m\u001b[0m\n\u001b[1;32m   1533\u001b[0m     \u001b[0;32mexcept\u001b[0m \u001b[0mException\u001b[0m \u001b[0;32mas\u001b[0m \u001b[0me\u001b[0m\u001b[0;34m:\u001b[0m\u001b[0;34m\u001b[0m\u001b[0m\n",
      "\u001b[0;32m/usr/local/lib/python2.7/site-packages/sklearn/pipeline.pyc\u001b[0m in \u001b[0;36mfit\u001b[0;34m(self, X, y, **fit_params)\u001b[0m\n\u001b[1;32m    163\u001b[0m         \"\"\"\n\u001b[1;32m    164\u001b[0m         \u001b[0mXt\u001b[0m\u001b[0;34m,\u001b[0m \u001b[0mfit_params\u001b[0m \u001b[0;34m=\u001b[0m \u001b[0mself\u001b[0m\u001b[0;34m.\u001b[0m\u001b[0m_pre_transform\u001b[0m\u001b[0;34m(\u001b[0m\u001b[0mX\u001b[0m\u001b[0;34m,\u001b[0m \u001b[0my\u001b[0m\u001b[0;34m,\u001b[0m \u001b[0;34m**\u001b[0m\u001b[0mfit_params\u001b[0m\u001b[0;34m)\u001b[0m\u001b[0;34m\u001b[0m\u001b[0m\n\u001b[0;32m--> 165\u001b[0;31m         \u001b[0mself\u001b[0m\u001b[0;34m.\u001b[0m\u001b[0msteps\u001b[0m\u001b[0;34m[\u001b[0m\u001b[0;34m-\u001b[0m\u001b[0;36m1\u001b[0m\u001b[0;34m]\u001b[0m\u001b[0;34m[\u001b[0m\u001b[0;34m-\u001b[0m\u001b[0;36m1\u001b[0m\u001b[0;34m]\u001b[0m\u001b[0;34m.\u001b[0m\u001b[0mfit\u001b[0m\u001b[0;34m(\u001b[0m\u001b[0mXt\u001b[0m\u001b[0;34m,\u001b[0m \u001b[0my\u001b[0m\u001b[0;34m,\u001b[0m \u001b[0;34m**\u001b[0m\u001b[0mfit_params\u001b[0m\u001b[0;34m)\u001b[0m\u001b[0;34m\u001b[0m\u001b[0m\n\u001b[0m\u001b[1;32m    166\u001b[0m         \u001b[0;32mreturn\u001b[0m \u001b[0mself\u001b[0m\u001b[0;34m\u001b[0m\u001b[0m\n\u001b[1;32m    167\u001b[0m \u001b[0;34m\u001b[0m\u001b[0m\n",
      "\u001b[0;32m<ipython-input-215-2501f95add4e>\u001b[0m in \u001b[0;36mfit\u001b[0;34m(self, X, y)\u001b[0m\n\u001b[1;32m     10\u001b[0m         \u001b[0my_err\u001b[0m \u001b[0;34m=\u001b[0m \u001b[0my\u001b[0m \u001b[0;34m-\u001b[0m \u001b[0mself\u001b[0m\u001b[0;34m.\u001b[0m\u001b[0mlinear_regression\u001b[0m\u001b[0;34m.\u001b[0m\u001b[0mpredict\u001b[0m\u001b[0;34m(\u001b[0m\u001b[0mX\u001b[0m\u001b[0;34m)\u001b[0m\u001b[0;34m\u001b[0m\u001b[0m\n\u001b[1;32m     11\u001b[0m \u001b[0;34m\u001b[0m\u001b[0m\n\u001b[0;32m---> 12\u001b[0;31m         \u001b[0mself\u001b[0m\u001b[0;34m.\u001b[0m\u001b[0mnearest_neighbors\u001b[0m \u001b[0;34m=\u001b[0m \u001b[0mneighbors\u001b[0m\u001b[0;34m.\u001b[0m\u001b[0mKNeighborsRegressor\u001b[0m\u001b[0;34m(\u001b[0m\u001b[0mn_neighbors\u001b[0m\u001b[0;34m=\u001b[0m\u001b[0mself\u001b[0m\u001b[0;34m.\u001b[0m\u001b[0mneighbors\u001b[0m\u001b[0;34m)\u001b[0m\u001b[0;34m.\u001b[0m\u001b[0mfit\u001b[0m\u001b[0;34m(\u001b[0m\u001b[0mX\u001b[0m\u001b[0;34m,\u001b[0m \u001b[0my_err\u001b[0m\u001b[0;34m)\u001b[0m\u001b[0;34m\u001b[0m\u001b[0m\n\u001b[0m\u001b[1;32m     13\u001b[0m         \u001b[0mself\u001b[0m\u001b[0;34m.\u001b[0m\u001b[0mrandom_forest\u001b[0m \u001b[0;34m=\u001b[0m \u001b[0mensemble\u001b[0m\u001b[0;34m.\u001b[0m\u001b[0mRandomForestRegressor\u001b[0m\u001b[0;34m(\u001b[0m\u001b[0mmin_samples_leaf\u001b[0m\u001b[0;34m=\u001b[0m\u001b[0mself\u001b[0m\u001b[0;34m.\u001b[0m\u001b[0msamples\u001b[0m\u001b[0;34m)\u001b[0m\u001b[0;34m.\u001b[0m\u001b[0mfit\u001b[0m\u001b[0;34m(\u001b[0m\u001b[0mX\u001b[0m\u001b[0;34m,\u001b[0m \u001b[0my_err\u001b[0m\u001b[0;34m)\u001b[0m\u001b[0;34m\u001b[0m\u001b[0m\n\u001b[1;32m     14\u001b[0m \u001b[0;34m\u001b[0m\u001b[0m\n",
      "\u001b[0;31mAttributeError\u001b[0m: 'int' object has no attribute 'KNeighborsRegressor'"
     ]
    }
   ],
   "source": [
    "#neighbors = 6\n",
    "#samples = 20\n",
    "nestedreg = pipeline.Pipeline([('colsel', ColumnSelector(linpredictors)),\n",
    "                               ('est', EnsembleRegressor(neighbors, samples))])  \n",
    "\n",
    "y1d = [item for sublist in meanwaits for item in sublist]\n",
    "#nestedreg.fit(data, y1d)\n",
    "#nestedreg.score(data, y1d)    \n",
    "\n",
    "nestedreg.get_params().keys()\n",
    "parameters = dict(est__neighbors=range(1,101,5), est__samples=range(1,32,3))\n",
    "nested_cv = sk.grid_search.GridSearchCV(nestedreg, param_grid=parameters)\n",
    "nested_cv.fit(data, y1d)\n",
    "#nested_cv.best_params_\n",
    "\n",
    "\n",
    "#residual_regressor_performance = pd.DataFrame([\n",
    "    #(\"Ensemble Regressor\", compute_error(EnsembleRegressor(), X, y))\n",
    "    #], columns=[\"Model\", \"MSE\"])\n",
    "#model_performance=model_performance.append(residual_regressor_performance)\n",
    "#model_performance.plot(x=\"Model\", y=\"MSE\", kind=\"Bar\")"
   ]
  },
  {
   "cell_type": "code",
   "execution_count": null,
   "metadata": {
    "collapsed": true
   },
   "outputs": [],
   "source": [
    "#TWEET MODEL WILL COME LATER\n",
    "#knnpipe.fit(data, tweetid)\n",
    "#knnpipe.score(data, tweetid)\n",
    "#linpipe.fit(data, tweetid)\n",
    "#linpipe.score(data, tweetid)"
   ]
  }
 ],
 "metadata": {
  "kernelspec": {
   "display_name": "Python 2",
   "language": "python",
   "name": "python2"
  },
  "language_info": {
   "codemirror_mode": {
    "name": "ipython",
    "version": 2
   },
   "file_extension": ".py",
   "mimetype": "text/x-python",
   "name": "python",
   "nbconvert_exporter": "python",
   "pygments_lexer": "ipython2",
   "version": "2.7.11"
  }
 },
 "nbformat": 4,
 "nbformat_minor": 0
}
