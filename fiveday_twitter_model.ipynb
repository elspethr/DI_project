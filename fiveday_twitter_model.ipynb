{
 "cells": [
  {
   "cell_type": "code",
   "execution_count": 3,
   "metadata": {
    "collapsed": false
   },
   "outputs": [],
   "source": [
    "%matplotlib inline\n",
    "#load packages and data\n",
    "import datetime\n",
    "import holidays\n",
    "import re #regular expressions\n",
    "import MySQLdb\n",
    "import pandas.io.sql as sql\n",
    "import pandas as pd\n",
    "import numpy as np\n",
    "import scipy.stats\n",
    "from matplotlib import pyplot as plt\n",
    "import sklearn as sk\n",
    "from sklearn import cross_validation, preprocessing, linear_model, neighbors, feature_extraction, grid_search, pipeline, metrics, ensemble\n",
    "import dill"
   ]
  },
  {
   "cell_type": "code",
   "execution_count": 4,
   "metadata": {
    "collapsed": false
   },
   "outputs": [
    {
     "name": "stdout",
     "output_type": "stream",
     "text": [
      "   tweetid              user          timestamps      search location\n",
      "0       51  @catcherintherei 2015-08-01 16:55:00  Disneyland  anaheim\n",
      "1       52      @LambdaPanda 2015-08-01 16:53:00  Disneyland  anaheim\n",
      "2       53        @rubyray92 2015-08-01 16:46:00  Disneyland  anaheim\n",
      "3       54         @LovezDee 2015-08-01 16:46:00  Disneyland  anaheim\n",
      "4       55    @TheEricGraham 2015-08-01 16:34:00  Disneyland  anaheim\n"
     ]
    }
   ],
   "source": [
    "#get current twitter data from db\n",
    "conn = MySQLdb.connect(host=\"localhost\", port=3306, user=\"root\", db=\"disney_db\") #make db connection\n",
    "cursor = conn.cursor()\n",
    "cursor.execute(\"SELECT id, user, timestamp, search, location FROM twitter_data_copy WHERE location = 'anaheim'\")\n",
    "rows = cursor.fetchall()\n",
    "tweetdf = pd.DataFrame( [[ij for ij in i] for i in rows] )\n",
    "tweetdf.rename(columns={0: 'tweetid', 1: 'user', 2: 'timestamps', 3: 'search', 4: 'location'}, inplace=True)\n",
    "tweetdf.search = tweetdf.search.apply(lambda x: x.title())\n",
    "print tweetdf.head()"
   ]
  },
  {
   "cell_type": "code",
   "execution_count": 5,
   "metadata": {
    "collapsed": false
   },
   "outputs": [],
   "source": [
    "#now bin tweets by day\n",
    "tweetdf['hour'] = [dt.hour for dt in tweetdf.timestamps]\n",
    "tweetdftrim = tweetdf[tweetdf.hour >= 8]\n",
    "tweetdftrim = tweetdftrim[tweetdftrim.hour <= 22]"
   ]
  },
  {
   "cell_type": "code",
   "execution_count": 6,
   "metadata": {
    "collapsed": false
   },
   "outputs": [
    {
     "data": {
      "text/html": [
       "<div>\n",
       "<table border=\"1\" class=\"dataframe\">\n",
       "  <thead>\n",
       "    <tr style=\"text-align: right;\">\n",
       "      <th></th>\n",
       "      <th>search</th>\n",
       "      <th>day</th>\n",
       "      <th>user</th>\n",
       "    </tr>\n",
       "  </thead>\n",
       "  <tbody>\n",
       "    <tr>\n",
       "      <th>0</th>\n",
       "      <td>California Adventure</td>\n",
       "      <td>2014-12-31</td>\n",
       "      <td>27</td>\n",
       "    </tr>\n",
       "    <tr>\n",
       "      <th>1</th>\n",
       "      <td>California Adventure</td>\n",
       "      <td>2015-01-01</td>\n",
       "      <td>55</td>\n",
       "    </tr>\n",
       "    <tr>\n",
       "      <th>2</th>\n",
       "      <td>California Adventure</td>\n",
       "      <td>2015-01-02</td>\n",
       "      <td>63</td>\n",
       "    </tr>\n",
       "    <tr>\n",
       "      <th>3</th>\n",
       "      <td>California Adventure</td>\n",
       "      <td>2015-01-03</td>\n",
       "      <td>38</td>\n",
       "    </tr>\n",
       "    <tr>\n",
       "      <th>4</th>\n",
       "      <td>California Adventure</td>\n",
       "      <td>2015-01-04</td>\n",
       "      <td>50</td>\n",
       "    </tr>\n",
       "  </tbody>\n",
       "</table>\n",
       "</div>"
      ],
      "text/plain": [
       "                 search        day  user\n",
       "0  California Adventure 2014-12-31    27\n",
       "1  California Adventure 2015-01-01    55\n",
       "2  California Adventure 2015-01-02    63\n",
       "3  California Adventure 2015-01-03    38\n",
       "4  California Adventure 2015-01-04    50"
      ]
     },
     "execution_count": 6,
     "metadata": {},
     "output_type": "execute_result"
    }
   ],
   "source": [
    "tweetdftrim['day'] = [datetime.datetime(dt.year, dt.month, dt.day) for dt in tweetdftrim.timestamps]\n",
    "tweets_per_day = pd.DataFrame(tweetdftrim.groupby(['search','day'])['user'].count()).reset_index()\n",
    "tweets_per_day.head()"
   ]
  },
  {
   "cell_type": "code",
   "execution_count": 18,
   "metadata": {
    "collapsed": false
   },
   "outputs": [
    {
     "data": {
      "text/html": [
       "<div>\n",
       "<table border=\"1\" class=\"dataframe\">\n",
       "  <thead>\n",
       "    <tr style=\"text-align: right;\">\n",
       "      <th></th>\n",
       "      <th>temp</th>\n",
       "      <th>wind</th>\n",
       "      <th>precip</th>\n",
       "      <th>conditions</th>\n",
       "      <th>humidity</th>\n",
       "      <th>datetimeUTC</th>\n",
       "    </tr>\n",
       "  </thead>\n",
       "  <tbody>\n",
       "    <tr>\n",
       "      <th>0</th>\n",
       "      <td>57.9</td>\n",
       "      <td>6.9</td>\n",
       "      <td>N/A</td>\n",
       "      <td>Clear</td>\n",
       "      <td>65</td>\n",
       "      <td>2014-12-30 00:53:00</td>\n",
       "    </tr>\n",
       "    <tr>\n",
       "      <th>1</th>\n",
       "      <td>57.0</td>\n",
       "      <td>0.0</td>\n",
       "      <td>N/A</td>\n",
       "      <td>Clear</td>\n",
       "      <td>69</td>\n",
       "      <td>2014-12-30 01:53:00</td>\n",
       "    </tr>\n",
       "    <tr>\n",
       "      <th>2</th>\n",
       "      <td>54.0</td>\n",
       "      <td>0.0</td>\n",
       "      <td>N/A</td>\n",
       "      <td>Clear</td>\n",
       "      <td>75</td>\n",
       "      <td>2014-12-30 02:53:00</td>\n",
       "    </tr>\n",
       "    <tr>\n",
       "      <th>3</th>\n",
       "      <td>51.1</td>\n",
       "      <td>0.0</td>\n",
       "      <td>N/A</td>\n",
       "      <td>Clear</td>\n",
       "      <td>80</td>\n",
       "      <td>2014-12-30 03:53:00</td>\n",
       "    </tr>\n",
       "    <tr>\n",
       "      <th>4</th>\n",
       "      <td>50.0</td>\n",
       "      <td>0.0</td>\n",
       "      <td>N/A</td>\n",
       "      <td>Clear</td>\n",
       "      <td>80</td>\n",
       "      <td>2014-12-30 04:53:00</td>\n",
       "    </tr>\n",
       "  </tbody>\n",
       "</table>\n",
       "</div>"
      ],
      "text/plain": [
       "   temp  wind precip conditions humidity          datetimeUTC\n",
       "0  57.9   6.9    N/A      Clear       65  2014-12-30 00:53:00\n",
       "1  57.0   0.0    N/A      Clear       69  2014-12-30 01:53:00\n",
       "2  54.0   0.0    N/A      Clear       75  2014-12-30 02:53:00\n",
       "3  51.1   0.0    N/A      Clear       80  2014-12-30 03:53:00\n",
       "4  50.0   0.0    N/A      Clear       80  2014-12-30 04:53:00"
      ]
     },
     "execution_count": 18,
     "metadata": {},
     "output_type": "execute_result"
    }
   ],
   "source": [
    "#import weather data\n",
    "cursor.execute(\"SELECT TemperatureF, Wind_SpeedMPH, PrecipitationIN, Conditions, Humidity, DateUTC FROM anaheim_weather WHERE DateUTC > '2014-12-30'\")\n",
    "wrows = cursor.fetchall()\n",
    "weatherdf = pd.DataFrame( [[ij for ij in i] for i in wrows] )\n",
    "weatherdf.rename(columns={0: 'temp', 1:'wind', 2:'precip', 3:'conditions', 4:'humidity', 5: 'datetimeUTC'}, inplace=True)\n",
    "weatherdf.head()"
   ]
  },
  {
   "cell_type": "code",
   "execution_count": 19,
   "metadata": {
    "collapsed": false
   },
   "outputs": [],
   "source": [
    "weatherdf['datetimeUTC'] =  pd.to_datetime(weatherdf['datetimeUTC'], format='%Y-%m-%d %H:%M:%S.')\n",
    "weatherdf['timestamp'] = weatherdf['datetimeUTC'] - datetime.timedelta(hours=8)\n",
    "weatherdf['day'] = [datetime.datetime(dt.year, dt.month, dt.day) for dt in weatherdf.timestamp]\n",
    "weatherdf.wind.replace(-9999.0, float('NaN'), inplace=True)\n",
    "weatherdf.temp.replace(-9999.0, float('NaN'), inplace=True)\n",
    "weatherdf.precip.replace(-9999.0, float('NaN'), inplace=True)\n",
    "weatherdf.humidity.replace(-9999.0, float('NaN'), inplace=True)\n",
    "weatherdf.precip.replace('N/A', 0, inplace=True)\n",
    "weatherdf.humidity.replace('N/A', float('NaN'), inplace=True)\n",
    "weatherdf['precip'] = pd.to_numeric(weatherdf['precip'])\n",
    "weatherdf['humidity'] = pd.to_numeric(weatherdf['humidity'])\n",
    "weatherdf['lotemp'] = weatherdf['temp']\n",
    "weatherdf = weatherdf.dropna()"
   ]
  },
  {
   "cell_type": "code",
   "execution_count": 20,
   "metadata": {
    "collapsed": false
   },
   "outputs": [
    {
     "data": {
      "text/html": [
       "<div>\n",
       "<table border=\"1\" class=\"dataframe\">\n",
       "  <thead>\n",
       "    <tr style=\"text-align: right;\">\n",
       "      <th></th>\n",
       "      <th>day</th>\n",
       "      <th>temp</th>\n",
       "      <th>humidity</th>\n",
       "      <th>precip</th>\n",
       "      <th>conditions</th>\n",
       "      <th>wind</th>\n",
       "      <th>lotemp</th>\n",
       "    </tr>\n",
       "  </thead>\n",
       "  <tbody>\n",
       "    <tr>\n",
       "      <th>0</th>\n",
       "      <td>2014-12-29</td>\n",
       "      <td>57.9</td>\n",
       "      <td>78.800000</td>\n",
       "      <td>0.00</td>\n",
       "      <td>([Clear], [5])</td>\n",
       "      <td>1.960000</td>\n",
       "      <td>48.0</td>\n",
       "    </tr>\n",
       "    <tr>\n",
       "      <th>1</th>\n",
       "      <td>2014-12-30</td>\n",
       "      <td>57.9</td>\n",
       "      <td>64.750000</td>\n",
       "      <td>0.12</td>\n",
       "      <td>([Overcast], [18])</td>\n",
       "      <td>8.192857</td>\n",
       "      <td>46.9</td>\n",
       "    </tr>\n",
       "    <tr>\n",
       "      <th>2</th>\n",
       "      <td>2014-12-31</td>\n",
       "      <td>57.0</td>\n",
       "      <td>36.750000</td>\n",
       "      <td>0.00</td>\n",
       "      <td>([Clear], [19])</td>\n",
       "      <td>3.950000</td>\n",
       "      <td>39.9</td>\n",
       "    </tr>\n",
       "    <tr>\n",
       "      <th>3</th>\n",
       "      <td>2015-01-01</td>\n",
       "      <td>59.0</td>\n",
       "      <td>54.250000</td>\n",
       "      <td>0.00</td>\n",
       "      <td>([Clear], [23])</td>\n",
       "      <td>3.520833</td>\n",
       "      <td>36.0</td>\n",
       "    </tr>\n",
       "    <tr>\n",
       "      <th>4</th>\n",
       "      <td>2015-01-02</td>\n",
       "      <td>61.0</td>\n",
       "      <td>67.166667</td>\n",
       "      <td>0.00</td>\n",
       "      <td>([Clear], [24])</td>\n",
       "      <td>2.266667</td>\n",
       "      <td>37.0</td>\n",
       "    </tr>\n",
       "  </tbody>\n",
       "</table>\n",
       "</div>"
      ],
      "text/plain": [
       "         day  temp   humidity  precip          conditions      wind  lotemp\n",
       "0 2014-12-29  57.9  78.800000    0.00      ([Clear], [5])  1.960000    48.0\n",
       "1 2014-12-30  57.9  64.750000    0.12  ([Overcast], [18])  8.192857    46.9\n",
       "2 2014-12-31  57.0  36.750000    0.00     ([Clear], [19])  3.950000    39.9\n",
       "3 2015-01-01  59.0  54.250000    0.00     ([Clear], [23])  3.520833    36.0\n",
       "4 2015-01-02  61.0  67.166667    0.00     ([Clear], [24])  2.266667    37.0"
      ]
     },
     "execution_count": 20,
     "metadata": {},
     "output_type": "execute_result"
    }
   ],
   "source": [
    "daily_weather = pd.DataFrame(weatherdf.groupby(['day']).agg({'temp':np.max, 'lotemp':np.min, 'wind':np.nanmean, 'humidity':np.nanmean, 'precip':np.sum, 'conditions':scipy.stats.mode})).reset_index()\n",
    "daily_weather.head()"
   ]
  },
  {
   "cell_type": "code",
   "execution_count": 21,
   "metadata": {
    "collapsed": false
   },
   "outputs": [
    {
     "data": {
      "text/html": [
       "<div>\n",
       "<table border=\"1\" class=\"dataframe\">\n",
       "  <thead>\n",
       "    <tr style=\"text-align: right;\">\n",
       "      <th></th>\n",
       "      <th>search</th>\n",
       "      <th>day</th>\n",
       "      <th>user</th>\n",
       "      <th>temp</th>\n",
       "      <th>humidity</th>\n",
       "      <th>precip</th>\n",
       "      <th>conditions</th>\n",
       "      <th>wind</th>\n",
       "      <th>lotemp</th>\n",
       "    </tr>\n",
       "  </thead>\n",
       "  <tbody>\n",
       "    <tr>\n",
       "      <th>0</th>\n",
       "      <td>California Adventure</td>\n",
       "      <td>2014-12-31</td>\n",
       "      <td>27</td>\n",
       "      <td>57.0</td>\n",
       "      <td>36.750000</td>\n",
       "      <td>0.0</td>\n",
       "      <td>([Clear], [19])</td>\n",
       "      <td>3.950000</td>\n",
       "      <td>39.9</td>\n",
       "    </tr>\n",
       "    <tr>\n",
       "      <th>1</th>\n",
       "      <td>Disneyland</td>\n",
       "      <td>2014-12-31</td>\n",
       "      <td>136</td>\n",
       "      <td>57.0</td>\n",
       "      <td>36.750000</td>\n",
       "      <td>0.0</td>\n",
       "      <td>([Clear], [19])</td>\n",
       "      <td>3.950000</td>\n",
       "      <td>39.9</td>\n",
       "    </tr>\n",
       "    <tr>\n",
       "      <th>2</th>\n",
       "      <td>California Adventure</td>\n",
       "      <td>2015-01-01</td>\n",
       "      <td>55</td>\n",
       "      <td>59.0</td>\n",
       "      <td>54.250000</td>\n",
       "      <td>0.0</td>\n",
       "      <td>([Clear], [23])</td>\n",
       "      <td>3.520833</td>\n",
       "      <td>36.0</td>\n",
       "    </tr>\n",
       "    <tr>\n",
       "      <th>3</th>\n",
       "      <td>Disneyland</td>\n",
       "      <td>2015-01-01</td>\n",
       "      <td>289</td>\n",
       "      <td>59.0</td>\n",
       "      <td>54.250000</td>\n",
       "      <td>0.0</td>\n",
       "      <td>([Clear], [23])</td>\n",
       "      <td>3.520833</td>\n",
       "      <td>36.0</td>\n",
       "    </tr>\n",
       "    <tr>\n",
       "      <th>4</th>\n",
       "      <td>California Adventure</td>\n",
       "      <td>2015-01-02</td>\n",
       "      <td>63</td>\n",
       "      <td>61.0</td>\n",
       "      <td>67.166667</td>\n",
       "      <td>0.0</td>\n",
       "      <td>([Clear], [24])</td>\n",
       "      <td>2.266667</td>\n",
       "      <td>37.0</td>\n",
       "    </tr>\n",
       "  </tbody>\n",
       "</table>\n",
       "</div>"
      ],
      "text/plain": [
       "                 search        day  user  temp   humidity  precip  \\\n",
       "0  California Adventure 2014-12-31    27  57.0  36.750000     0.0   \n",
       "1            Disneyland 2014-12-31   136  57.0  36.750000     0.0   \n",
       "2  California Adventure 2015-01-01    55  59.0  54.250000     0.0   \n",
       "3            Disneyland 2015-01-01   289  59.0  54.250000     0.0   \n",
       "4  California Adventure 2015-01-02    63  61.0  67.166667     0.0   \n",
       "\n",
       "        conditions      wind  lotemp  \n",
       "0  ([Clear], [19])  3.950000    39.9  \n",
       "1  ([Clear], [19])  3.950000    39.9  \n",
       "2  ([Clear], [23])  3.520833    36.0  \n",
       "3  ([Clear], [23])  3.520833    36.0  \n",
       "4  ([Clear], [24])  2.266667    37.0  "
      ]
     },
     "execution_count": 21,
     "metadata": {},
     "output_type": "execute_result"
    }
   ],
   "source": [
    "#join weather and twitter data\n",
    "tweetwaits = pd.merge(tweets_per_day, daily_weather, on='day')\n",
    "tweetwaits.head()"
   ]
  },
  {
   "cell_type": "code",
   "execution_count": 22,
   "metadata": {
    "collapsed": false
   },
   "outputs": [],
   "source": [
    "#close SQL connection\n",
    "conn.close()"
   ]
  },
  {
   "cell_type": "code",
   "execution_count": 59,
   "metadata": {
    "collapsed": false
   },
   "outputs": [
    {
     "data": {
      "text/html": [
       "<div>\n",
       "<table border=\"1\" class=\"dataframe\">\n",
       "  <thead>\n",
       "    <tr style=\"text-align: right;\">\n",
       "      <th></th>\n",
       "      <th>search</th>\n",
       "      <th>day</th>\n",
       "      <th>user</th>\n",
       "      <th>temp</th>\n",
       "      <th>humidity</th>\n",
       "      <th>precip</th>\n",
       "      <th>conditions</th>\n",
       "      <th>wind</th>\n",
       "      <th>lotemp</th>\n",
       "      <th>business_day</th>\n",
       "      <th>holiday</th>\n",
       "    </tr>\n",
       "  </thead>\n",
       "  <tbody>\n",
       "    <tr>\n",
       "      <th>0</th>\n",
       "      <td>California Adventure</td>\n",
       "      <td>2014-12-31</td>\n",
       "      <td>27</td>\n",
       "      <td>57.0</td>\n",
       "      <td>36.750000</td>\n",
       "      <td>0.0</td>\n",
       "      <td>([Clear], [19])</td>\n",
       "      <td>3.950000</td>\n",
       "      <td>39.9</td>\n",
       "      <td>False</td>\n",
       "      <td>False</td>\n",
       "    </tr>\n",
       "    <tr>\n",
       "      <th>1</th>\n",
       "      <td>Disneyland</td>\n",
       "      <td>2014-12-31</td>\n",
       "      <td>136</td>\n",
       "      <td>57.0</td>\n",
       "      <td>36.750000</td>\n",
       "      <td>0.0</td>\n",
       "      <td>([Clear], [19])</td>\n",
       "      <td>3.950000</td>\n",
       "      <td>39.9</td>\n",
       "      <td>False</td>\n",
       "      <td>False</td>\n",
       "    </tr>\n",
       "    <tr>\n",
       "      <th>2</th>\n",
       "      <td>California Adventure</td>\n",
       "      <td>2015-01-01</td>\n",
       "      <td>55</td>\n",
       "      <td>59.0</td>\n",
       "      <td>54.250000</td>\n",
       "      <td>0.0</td>\n",
       "      <td>([Clear], [23])</td>\n",
       "      <td>3.520833</td>\n",
       "      <td>36.0</td>\n",
       "      <td>False</td>\n",
       "      <td>True</td>\n",
       "    </tr>\n",
       "    <tr>\n",
       "      <th>3</th>\n",
       "      <td>Disneyland</td>\n",
       "      <td>2015-01-01</td>\n",
       "      <td>289</td>\n",
       "      <td>59.0</td>\n",
       "      <td>54.250000</td>\n",
       "      <td>0.0</td>\n",
       "      <td>([Clear], [23])</td>\n",
       "      <td>3.520833</td>\n",
       "      <td>36.0</td>\n",
       "      <td>False</td>\n",
       "      <td>True</td>\n",
       "    </tr>\n",
       "    <tr>\n",
       "      <th>4</th>\n",
       "      <td>California Adventure</td>\n",
       "      <td>2015-01-02</td>\n",
       "      <td>63</td>\n",
       "      <td>61.0</td>\n",
       "      <td>67.166667</td>\n",
       "      <td>0.0</td>\n",
       "      <td>([Clear], [24])</td>\n",
       "      <td>2.266667</td>\n",
       "      <td>37.0</td>\n",
       "      <td>False</td>\n",
       "      <td>False</td>\n",
       "    </tr>\n",
       "  </tbody>\n",
       "</table>\n",
       "</div>"
      ],
      "text/plain": [
       "                 search        day  user  temp   humidity  precip  \\\n",
       "0  California Adventure 2014-12-31    27  57.0  36.750000     0.0   \n",
       "1            Disneyland 2014-12-31   136  57.0  36.750000     0.0   \n",
       "2  California Adventure 2015-01-01    55  59.0  54.250000     0.0   \n",
       "3            Disneyland 2015-01-01   289  59.0  54.250000     0.0   \n",
       "4  California Adventure 2015-01-02    63  61.0  67.166667     0.0   \n",
       "\n",
       "        conditions      wind  lotemp business_day holiday  \n",
       "0  ([Clear], [19])  3.950000    39.9        False   False  \n",
       "1  ([Clear], [19])  3.950000    39.9        False   False  \n",
       "2  ([Clear], [23])  3.520833    36.0        False    True  \n",
       "3  ([Clear], [23])  3.520833    36.0        False    True  \n",
       "4  ([Clear], [24])  2.266667    37.0        False   False  "
      ]
     },
     "execution_count": 59,
     "metadata": {},
     "output_type": "execute_result"
    }
   ],
   "source": [
    "#get business days and holidays\n",
    "tweetwaits['business_day'] = [dt.weekday() >= 5 for dt in tweetwaits.day]\n",
    "us_holidays = holidays.UnitedStates()\n",
    "tweetwaits['holiday'] = [day in us_holidays for day in tweetwaits.day]\n",
    "result = tweetwaits.dropna()\n",
    "result.head()"
   ]
  },
  {
   "cell_type": "code",
   "execution_count": 60,
   "metadata": {
    "collapsed": false
   },
   "outputs": [],
   "source": [
    "#normalize numericals\n",
    "tweeters = result['user']\n",
    "\n",
    "###OTHER PARKS: KNOTT'S BERRY FARM, LEGOLAND CALIFORNIA RESORT (CALRSBAD), UNIVERSAL STUDIOS (HOLLYWOOD)\n",
    "###HERE CALCULATE TWEETS PER ACRE OF THE PARK: Disney 85, CA 67, Knott's 160, Legoland 128, US 415\n",
    "CAm2 = 67.\n",
    "DLm2 = 85.\n",
    "\n",
    "result['size'] = np.where(result['search']=='Disneyland', 85, 67)\n",
    "result['tweetsperacre'] = result['user']/result['size']\n",
    "\n",
    "meant = result['tweetsperacre'].mean()\n",
    "stdt = result['tweetsperacre'].std()\n",
    "#result['tweetsnormed'] = result['tweetsperacre'].apply(lambda x: ((x - meant) / stdt))\n",
    "\n",
    "#add squares of hod, temp, and wind\n",
    "result['dow'] = [dt.weekday() for dt in result.day]\n",
    "#result['dow2'] = result['dow']**2\n",
    "result['temp2'] = result['temp']**2\n",
    "result['lotemp2'] = result['lotemp']**2\n",
    "result['wind2'] = result['wind']**2\n",
    "\n",
    "result['conditions'] = [str(x[0]).strip(\"[]'\") for x in result['conditions']]\n",
    "result = pd.concat([result, pd.get_dummies(result.conditions), pd.get_dummies(result.search), pd.get_dummies(result.dow)], axis=1)\n",
    "result.reset_index(inplace=True)\n",
    "result.drop('index', axis=1, inplace=True)\n",
    "result = result.dropna()\n",
    "\n",
    "result.to_csv(\"fiveday_joined.csv\")\n",
    "#delete 2015/0717: 60th anniversary"
   ]
  },
  {
   "cell_type": "code",
   "execution_count": 25,
   "metadata": {
    "collapsed": false
   },
   "outputs": [
    {
     "data": {
      "text/plain": [
       "[{'dow': 0, 'peracre': 0.44313643052343915, 'search': 'California Adventure'},\n",
       " {'dow': 0, 'peracre': 2.2336601307189543, 'search': 'Disneyland'},\n",
       " {'dow': 1, 'peracre': 0.3540046247635064, 'search': 'California Adventure'},\n",
       " {'dow': 1, 'peracre': 1.9153594771241829, 'search': 'Disneyland'},\n",
       " {'dow': 2, 'peracre': 0.37251243781094523, 'search': 'California Adventure'},\n",
       " {'dow': 2, 'peracre': 1.9788879935535857, 'search': 'Disneyland'},\n",
       " {'dow': 3, 'peracre': 0.38412106135986734, 'search': 'California Adventure'},\n",
       " {'dow': 3, 'peracre': 2.1601307189542482, 'search': 'Disneyland'},\n",
       " {'dow': 4, 'peracre': 0.4664704645785159, 'search': 'California Adventure'},\n",
       " {'dow': 4, 'peracre': 2.4694283347141672, 'search': 'Disneyland'},\n",
       " {'dow': 5, 'peracre': 0.5402155887230514, 'search': 'California Adventure'},\n",
       " {'dow': 5, 'peracre': 2.7285947712418297, 'search': 'Disneyland'},\n",
       " {'dow': 6, 'peracre': 0.5509594882729211, 'search': 'California Adventure'},\n",
       " {'dow': 6, 'peracre': 3.0803361344537814, 'search': 'Disneyland'}]"
      ]
     },
     "execution_count": 25,
     "metadata": {},
     "output_type": "execute_result"
    }
   ],
   "source": [
    "daily_averages = pd.DataFrame(result.groupby(['dow', 'search']).agg({'user':np.mean, 'size':'first'})).reset_index()\n",
    "daily_averages['peracre'] = daily_averages['user']/daily_averages['size']\n",
    "#daily_averages\n",
    "daily_averages.drop(['user', 'size'], axis=1, inplace=True)\n",
    "day_averages = daily_averages.T.to_dict().values()\n",
    "day_averages\n",
    "#dill.dump(day_averages, open('day_averages.pkl', 'w'))"
   ]
  },
  {
   "cell_type": "code",
   "execution_count": 28,
   "metadata": {
    "collapsed": false
   },
   "outputs": [
    {
     "data": {
      "text/plain": [
       "{0: 0.0,\n",
       " 1: 0.0,\n",
       " 2: 1.0,\n",
       " 3: 0.0,\n",
       " 4: 0.0,\n",
       " 5: 0.0,\n",
       " 6: 0.0,\n",
       " 'California Adventure': 1.0,\n",
       " 'Clear': 1.0,\n",
       " 'Disneyland': 0.0,\n",
       " 'Haze': 0.0,\n",
       " 'Heavy Rain': 0.0,\n",
       " 'Light Rain': 0.0,\n",
       " 'Mostly Cloudy': 0.0,\n",
       " 'Overcast': 0.0,\n",
       " 'Partly Cloudy': 0.0,\n",
       " 'business_day': False,\n",
       " 'day': Timestamp('2014-12-31 00:00:00'),\n",
       " 'dow': 2,\n",
       " 'holiday': False,\n",
       " 'humidity': 36.75,\n",
       " 'lotemp': 39.9,\n",
       " 'lotemp2': 1592.01,\n",
       " 'precip': 0.0,\n",
       " 'size': 67,\n",
       " 'temp': 57.0,\n",
       " 'temp2': 3249.0,\n",
       " 'tweetsperacre': 0.40298507462686567,\n",
       " 'user': 27,\n",
       " 'wind': 3.9499999999999997,\n",
       " 'wind2': 15.602499999999997}"
      ]
     },
     "execution_count": 28,
     "metadata": {},
     "output_type": "execute_result"
    }
   ],
   "source": [
    "result.drop(['conditions', 'search'], axis=1, inplace=True)\n",
    "data = result.T.to_dict().values()\n",
    "data[0]"
   ]
  },
  {
   "cell_type": "code",
   "execution_count": 43,
   "metadata": {
    "collapsed": false
   },
   "outputs": [
    {
     "name": "stdout",
     "output_type": "stream",
     "text": [
      "[ 0.40298507  1.6         0.82089552 ...,  2.07058824  1.98823529\n",
      "  2.58823529]\n"
     ]
    }
   ],
   "source": [
    "#model definition\n",
    "\n",
    "class ColumnSelector(sk.base.BaseEstimator, sk.base.TransformerMixin):\n",
    "    def __init__(self, column_names): #initialize\n",
    "        self.column_names = column_names\n",
    "\n",
    "    def fit(self, X, y=None): #fit the transformation, optional here\n",
    "        return self\n",
    "\n",
    "    def transform(self, X):\n",
    "        return [[x[column] for column in self.column_names] for x in X]\n",
    "\n",
    "\n",
    "columns = sorted(data[0].keys())\n",
    "#knnpredictors = ['Clear', 'Fog', 'Haze', 'Heavy Rain', 'Light Rain', 'Mist', \n",
    "#                 'Mostly Cloudy', 'Overcast', 'Partly Cloudy', 'Rain', 'Scattered Clouds', \n",
    "#                 'business_day', 'California Adventure', 'Disneyland', 'holiday', 'hour', 'temp', 'wind']\n",
    "linpredictors = ['Clear', 'Haze', 'Heavy Rain', 'Light Rain', 'Mostly Cloudy', 'Overcast', 'Partly Cloudy', \n",
    "                 'business_day', 'California Adventure', 'Disneyland', 'holiday', 0,1,2,3,4,5,6,\n",
    "                 'temp', 'lotemp', 'wind', 'humidity', 'precip']\n",
    "\n",
    "y = result.tweetsperacre.as_matrix()\n",
    "print y"
   ]
  },
  {
   "cell_type": "code",
   "execution_count": 44,
   "metadata": {
    "collapsed": true
   },
   "outputs": [],
   "source": [
    "class EnsembleRegressor(sk.base.BaseEstimator, sk.base.RegressorMixin):\n",
    "    \"\"\"Joins a linear, random forest, and nearest neighbors model.\"\"\"\n",
    "    def __init__(self, nbrs, samples):\n",
    "        self.nbrs = nbrs\n",
    "        self.samples = samples\n",
    "        pass\n",
    "    \n",
    "    def fit(self, X, y):\n",
    "        self.linear_regression = linear_model.LinearRegression().fit(X, y)\n",
    "        y_err = y - self.linear_regression.predict(X)\n",
    "\n",
    "        self.nearest_neighbors = neighbors.KNeighborsRegressor(n_neighbors=self.nbrs).fit(X, y_err)\n",
    "        self.random_forest = ensemble.RandomForestRegressor(min_samples_leaf=self.samples).fit(X, y_err)\n",
    "\n",
    "        X_ensemble = pd.DataFrame({\n",
    "            \"NEAR\": self.nearest_neighbors.predict(X),\n",
    "            \"FOREST\": self.random_forest.predict(X),\n",
    "            \"LINEAR\": self.linear_regression.predict(X),\n",
    "        })\n",
    "        self.ensemble_regression = linear_model.LinearRegression().fit(X_ensemble, y)\n",
    "        return self\n",
    "    \n",
    "    def predict(self, X):\n",
    "        X_ensemble = pd.DataFrame({\n",
    "            \"NEAR\": self.nearest_neighbors.predict(X),\n",
    "            \"FOREST\": self.random_forest.predict(X),\n",
    "            \"LINEAR\": self.linear_regression.predict(X),\n",
    "        })\n",
    "        return self.ensemble_regression.predict(X_ensemble)"
   ]
  },
  {
   "cell_type": "code",
   "execution_count": 45,
   "metadata": {
    "collapsed": false
   },
   "outputs": [],
   "source": [
    "nbrs = 5 \n",
    "samples = 5\n",
    "nestedreg = pipeline.Pipeline([('colsel', ColumnSelector(linpredictors)),\n",
    "                               #('poly', preprocessing.PolynomialFeatures(2)),\n",
    "                               ('est', EnsembleRegressor(nbrs, samples))])  "
   ]
  },
  {
   "cell_type": "code",
   "execution_count": 46,
   "metadata": {
    "collapsed": false
   },
   "outputs": [
    {
     "data": {
      "text/plain": [
       "{'est__nbrs': 91, 'est__samples': 91}"
      ]
     },
     "execution_count": 46,
     "metadata": {},
     "output_type": "execute_result"
    }
   ],
   "source": [
    "#nestedreg.get_params().keys()\n",
    "parameters = dict(est__nbrs=range(1,101,10), est__samples=range(1,101,10))\n",
    "nested_cv = sk.grid_search.GridSearchCV(nestedreg, param_grid=parameters)\n",
    "nested_cv.fit(data, y)\n",
    "nested_cv.best_params_"
   ]
  },
  {
   "cell_type": "code",
   "execution_count": 47,
   "metadata": {
    "collapsed": false
   },
   "outputs": [
    {
     "data": {
      "text/plain": [
       "0.78775409630573201"
      ]
     },
     "execution_count": 47,
     "metadata": {},
     "output_type": "execute_result"
    }
   ],
   "source": [
    "nested_cv.score(data, y)    "
   ]
  },
  {
   "cell_type": "code",
   "execution_count": 48,
   "metadata": {
    "collapsed": false
   },
   "outputs": [
    {
     "data": {
      "text/plain": [
       "0.75638348293075508"
      ]
     },
     "execution_count": 48,
     "metadata": {},
     "output_type": "execute_result"
    }
   ],
   "source": [
    "nbrs = 91\n",
    "samples = 91\n",
    "tweet_reg = pipeline.Pipeline([('colsel', ColumnSelector(linpredictors)),\n",
    "                            ('est', EnsembleRegressor(nbrs, samples))]) \n",
    "\n",
    "\n",
    "#tweet_reg.score(X_test, y_test)\n",
    "\n",
    "#run on all the data with the good alpha\n",
    "loo = cross_validation.KFold(len(y), 100, shuffle=True)\n",
    "scores = cross_validation.cross_val_score(tweet_reg, data, y, cv=loo)\n",
    "scores.mean()"
   ]
  },
  {
   "cell_type": "code",
   "execution_count": null,
   "metadata": {
    "collapsed": true
   },
   "outputs": [],
   "source": [
    "#now use this model to model waittimes."
   ]
  },
  {
   "cell_type": "code",
   "execution_count": 55,
   "metadata": {
    "collapsed": false
   },
   "outputs": [],
   "source": [
    "tweet_reg.fit(data, y)\n",
    "#import dill\n",
    "dill.dump(tweet_reg, open('fiveday_model.pkl', 'w'))"
   ]
  },
  {
   "cell_type": "code",
   "execution_count": 50,
   "metadata": {
    "collapsed": false
   },
   "outputs": [
    {
     "data": {
      "text/plain": [
       "0.78904245010896568"
      ]
     },
     "execution_count": 50,
     "metadata": {},
     "output_type": "execute_result"
    }
   ],
   "source": [
    "tweet_reg.score(data, y)"
   ]
  },
  {
   "cell_type": "code",
   "execution_count": 53,
   "metadata": {
    "collapsed": true
   },
   "outputs": [],
   "source": [
    "testdat = [{'California Adventure': 0.0,\n",
    " 'Clear': 1.0,\n",
    " 'Disneyland': 1.0,\n",
    " 'Haze': 0.0,\n",
    " 'Heavy Rain': 0.0,\n",
    " 'Light Rain': 0.0,\n",
    " 'Mostly Cloudy': 0.0,\n",
    " 'Overcast': 0.0,\n",
    " 'Partly Cloudy': 0.0,\n",
    " 'business_day': True,\n",
    " 'dow': 6,\n",
    "  0:0, \n",
    "  1:0,\n",
    "  2:0,\n",
    "  3:0,\n",
    "  4:0,\n",
    "  5:0,\n",
    "  6:1,\n",
    " 'holiday': False,\n",
    " 'humidity': 36.75,\n",
    " 'lotemp': 80.0,\n",
    " 'lotemp2': 6400.0,\n",
    " 'precip': 0.0,\n",
    " 'size': 85,\n",
    " 'temp': 90.0,\n",
    " 'temp2': 8100.0,\n",
    " 'wind': 3.9499999999999993,\n",
    " 'wind2': 15.602499999999994}]"
   ]
  },
  {
   "cell_type": "code",
   "execution_count": 54,
   "metadata": {
    "collapsed": false
   },
   "outputs": [
    {
     "data": {
      "text/plain": [
       "array([ 2.82905485])"
      ]
     },
     "execution_count": 54,
     "metadata": {},
     "output_type": "execute_result"
    }
   ],
   "source": [
    "tweet_reg.predict(testdat)"
   ]
  },
  {
   "cell_type": "code",
   "execution_count": 68,
   "metadata": {
    "collapsed": false
   },
   "outputs": [
    {
     "data": {
      "image/png": "[encoded data removed]",
      "text/plain": [
       "<matplotlib.figure.Figure at 0x1167c0bd0>"
      ]
     },
     "metadata": {},
     "output_type": "display_data"
    }
   ],
   "source": [
    "Disney = result.loc[lambda result: result.search == 'Disneyland']\n",
    "n, bins, patches = plt.hist(Disney.tweetsperacre, 50, normed=1, facecolor='green', alpha=0.75)"
   ]
  },
  {
   "cell_type": "code",
   "execution_count": 70,
   "metadata": {
    "collapsed": false
   },
   "outputs": [
    {
     "data": {
      "image/png": "[encoded data removed]",
      "text/plain": [
       "<matplotlib.figure.Figure at 0x1169dd510>"
      ]
     },
     "metadata": {},
     "output_type": "display_data"
    }
   ],
   "source": [
    "CA = result.loc[lambda result: result.search == 'California Adventure']\n",
    "n, bins, patches = plt.hist(CA.tweetsperacre, 50, normed=1, facecolor='green', alpha=0.75)"
   ]
  },
  {
   "cell_type": "code",
   "execution_count": null,
   "metadata": {
    "collapsed": true
   },
   "outputs": [],
   "source": []
  }
 ],
 "metadata": {
  "kernelspec": {
   "display_name": "Python 2",
   "language": "python",
   "name": "python2"
  },
  "language_info": {
   "codemirror_mode": {
    "name": "ipython",
    "version": 2
   },
   "file_extension": ".py",
   "mimetype": "text/x-python",
   "name": "python",
   "nbconvert_exporter": "python",
   "pygments_lexer": "ipython2",
   "version": "2.7.11"
  }
 },
 "nbformat": 4,
 "nbformat_minor": 0
}
